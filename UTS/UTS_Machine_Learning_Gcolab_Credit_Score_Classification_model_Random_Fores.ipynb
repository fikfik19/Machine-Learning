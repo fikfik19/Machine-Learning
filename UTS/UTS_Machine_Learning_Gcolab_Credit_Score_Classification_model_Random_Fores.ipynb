{
  "nbformat": 4,
  "nbformat_minor": 0,
  "metadata": {
    "colab": {
      "provenance": []
    },
    "kernelspec": {
      "name": "python3",
      "display_name": "Python 3"
    },
    "language_info": {
      "name": "python"
    }
  },
  "cells": [
    {
      "cell_type": "code",
      "execution_count": null,
      "metadata": {
        "id": "W-_VMriFrqZa"
      },
      "outputs": [],
      "source": [
        "# Nama    : Taufik Kurahman Sasmita\n",
        "# Nim     : 1103200008\n",
        "# Lecture : Tugas UTS\n",
        "# Model   : Random Fores\n",
        "# Dataset : https://www.kaggle.com/datasets/parisrohan/credit-score-classification"
      ]
    },
    {
      "cell_type": "markdown",
      "source": [
        "\n",
        "\n",
        "---\n",
        "\n",
        "\n",
        "# **Import Liblary yang akan di pakai atau di butuhkan**\n",
        "\n",
        "---\n",
        "\n",
        "\n",
        "\n",
        "\n"
      ],
      "metadata": {
        "id": "Ss6FbRRVwdNe"
      }
    },
    {
      "cell_type": "code",
      "source": [
        "import numpy as np\n",
        "import pandas as pd\n",
        "import plotly.express as px\n",
        "import plotly.graph_objects as go\n",
        "import matplotlib.pyplot as plt\n",
        "import seaborn as sns\n",
        "from sklearn.preprocessing import OrdinalEncoder, LabelEncoder\n",
        "from sklearn.feature_selection import mutual_info_classif\n",
        "from sklearn.model_selection import train_test_split\n",
        "from sklearn.ensemble import RandomForestClassifier, RandomForestRegressor\n",
        "from sklearn.metrics import classification_report, confusion_matrix, accuracy_score, mean_squared_error\n",
        "from imblearn.over_sampling import SMOTE\n",
        "import warnings\n",
        "warnings.filterwarnings(\"ignore\", category=FutureWarning)"
      ],
      "metadata": {
        "id": "Cy8O8dEBwZ-_"
      },
      "execution_count": 79,
      "outputs": []
    },
    {
      "cell_type": "markdown",
      "source": [
        "\n",
        "\n",
        "---\n",
        "\n",
        "\n",
        "# **Menghubungkan Gcollab dengan Gdrive**\n",
        "\n",
        "\n",
        "---\n",
        "\n"
      ],
      "metadata": {
        "id": "Q60oepu2wxac"
      }
    },
    {
      "cell_type": "code",
      "source": [
        "# Menghubungkan Gcollab dengan Gdrive\n",
        "from google.colab import drive\n",
        "drive.mount('/content/gdrive')"
      ],
      "metadata": {
        "colab": {
          "base_uri": "https://localhost:8080/"
        },
        "id": "IG1I-O_Qw75U",
        "outputId": "de99945f-3e5b-4515-c688-de8ae609fb0c"
      },
      "execution_count": 78,
      "outputs": [
        {
          "output_type": "stream",
          "name": "stdout",
          "text": [
            "Drive already mounted at /content/gdrive; to attempt to forcibly remount, call drive.mount(\"/content/gdrive\", force_remount=True).\n"
          ]
        }
      ]
    },
    {
      "cell_type": "markdown",
      "source": [
        "\n",
        "\n",
        "---\n",
        "\n",
        "\n",
        " #**Membaca dan Menampilkan data dari Path yang sudah ada di Gdrive**\n",
        "\n",
        "\n",
        "---\n",
        "\n"
      ],
      "metadata": {
        "id": "txvR39DKx_KC"
      }
    },
    {
      "cell_type": "code",
      "source": [
        "# Baca file .csv dari GDrive\n",
        "train = pd.read_csv('/content/gdrive/MyDrive/Dataset/train.csv', dtype={'Column26': str})\n",
        "\n",
        "# Tampilkan baris dari dataframe 'train'\n",
        "train.head()"
      ],
      "metadata": {
        "colab": {
          "base_uri": "https://localhost:8080/",
          "height": 465
        },
        "id": "vIFX-x0gxQW9",
        "outputId": "cd16f284-6c70-4c0a-8c13-a33c873cc5ae"
      },
      "execution_count": 82,
      "outputs": [
        {
          "output_type": "stream",
          "name": "stderr",
          "text": [
            "<ipython-input-82-fee8c25ff1a1>:2: DtypeWarning: Columns (26) have mixed types. Specify dtype option on import or set low_memory=False.\n",
            "  train = pd.read_csv('/content/gdrive/MyDrive/Dataset/train.csv', dtype={'Column26': str})\n"
          ]
        },
        {
          "output_type": "execute_result",
          "data": {
            "text/plain": [
              "       ID Customer_ID     Month           Name   Age          SSN Occupation  \\\n",
              "0  0x1602   CUS_0xd40   January  Aaron Maashoh    23  821-00-0265  Scientist   \n",
              "1  0x1603   CUS_0xd40  February  Aaron Maashoh    23  821-00-0265  Scientist   \n",
              "2  0x1604   CUS_0xd40     March  Aaron Maashoh  -500  821-00-0265  Scientist   \n",
              "3  0x1605   CUS_0xd40     April  Aaron Maashoh    23  821-00-0265  Scientist   \n",
              "4  0x1606   CUS_0xd40       May  Aaron Maashoh    23  821-00-0265  Scientist   \n",
              "\n",
              "  Annual_Income  Monthly_Inhand_Salary  Num_Bank_Accounts  ...  Credit_Mix  \\\n",
              "0      19114.12            1824.843333                  3  ...           _   \n",
              "1      19114.12                    NaN                  3  ...        Good   \n",
              "2      19114.12                    NaN                  3  ...        Good   \n",
              "3      19114.12                    NaN                  3  ...        Good   \n",
              "4      19114.12            1824.843333                  3  ...        Good   \n",
              "\n",
              "   Outstanding_Debt Credit_Utilization_Ratio     Credit_History_Age  \\\n",
              "0            809.98                26.822620  22 Years and 1 Months   \n",
              "1            809.98                31.944960                    NaN   \n",
              "2            809.98                28.609352  22 Years and 3 Months   \n",
              "3            809.98                31.377862  22 Years and 4 Months   \n",
              "4            809.98                24.797347  22 Years and 5 Months   \n",
              "\n",
              "   Payment_of_Min_Amount Total_EMI_per_month Amount_invested_monthly  \\\n",
              "0                     No           49.574949       80.41529543900253   \n",
              "1                     No           49.574949      118.28022162236736   \n",
              "2                     No           49.574949         81.699521264648   \n",
              "3                     No           49.574949       199.4580743910713   \n",
              "4                     No           49.574949      41.420153086217326   \n",
              "\n",
              "                  Payment_Behaviour     Monthly_Balance Credit_Score  \n",
              "0   High_spent_Small_value_payments  312.49408867943663         Good  \n",
              "1    Low_spent_Large_value_payments  284.62916249607184         Good  \n",
              "2   Low_spent_Medium_value_payments   331.2098628537912         Good  \n",
              "3    Low_spent_Small_value_payments  223.45130972736786         Good  \n",
              "4  High_spent_Medium_value_payments  341.48923103222177         Good  \n",
              "\n",
              "[5 rows x 28 columns]"
            ],
            "text/html": [
              "\n",
              "  <div id=\"df-4a5837aa-d1cc-47be-b693-3990b2583f9a\" class=\"colab-df-container\">\n",
              "    <div>\n",
              "<style scoped>\n",
              "    .dataframe tbody tr th:only-of-type {\n",
              "        vertical-align: middle;\n",
              "    }\n",
              "\n",
              "    .dataframe tbody tr th {\n",
              "        vertical-align: top;\n",
              "    }\n",
              "\n",
              "    .dataframe thead th {\n",
              "        text-align: right;\n",
              "    }\n",
              "</style>\n",
              "<table border=\"1\" class=\"dataframe\">\n",
              "  <thead>\n",
              "    <tr style=\"text-align: right;\">\n",
              "      <th></th>\n",
              "      <th>ID</th>\n",
              "      <th>Customer_ID</th>\n",
              "      <th>Month</th>\n",
              "      <th>Name</th>\n",
              "      <th>Age</th>\n",
              "      <th>SSN</th>\n",
              "      <th>Occupation</th>\n",
              "      <th>Annual_Income</th>\n",
              "      <th>Monthly_Inhand_Salary</th>\n",
              "      <th>Num_Bank_Accounts</th>\n",
              "      <th>...</th>\n",
              "      <th>Credit_Mix</th>\n",
              "      <th>Outstanding_Debt</th>\n",
              "      <th>Credit_Utilization_Ratio</th>\n",
              "      <th>Credit_History_Age</th>\n",
              "      <th>Payment_of_Min_Amount</th>\n",
              "      <th>Total_EMI_per_month</th>\n",
              "      <th>Amount_invested_monthly</th>\n",
              "      <th>Payment_Behaviour</th>\n",
              "      <th>Monthly_Balance</th>\n",
              "      <th>Credit_Score</th>\n",
              "    </tr>\n",
              "  </thead>\n",
              "  <tbody>\n",
              "    <tr>\n",
              "      <th>0</th>\n",
              "      <td>0x1602</td>\n",
              "      <td>CUS_0xd40</td>\n",
              "      <td>January</td>\n",
              "      <td>Aaron Maashoh</td>\n",
              "      <td>23</td>\n",
              "      <td>821-00-0265</td>\n",
              "      <td>Scientist</td>\n",
              "      <td>19114.12</td>\n",
              "      <td>1824.843333</td>\n",
              "      <td>3</td>\n",
              "      <td>...</td>\n",
              "      <td>_</td>\n",
              "      <td>809.98</td>\n",
              "      <td>26.822620</td>\n",
              "      <td>22 Years and 1 Months</td>\n",
              "      <td>No</td>\n",
              "      <td>49.574949</td>\n",
              "      <td>80.41529543900253</td>\n",
              "      <td>High_spent_Small_value_payments</td>\n",
              "      <td>312.49408867943663</td>\n",
              "      <td>Good</td>\n",
              "    </tr>\n",
              "    <tr>\n",
              "      <th>1</th>\n",
              "      <td>0x1603</td>\n",
              "      <td>CUS_0xd40</td>\n",
              "      <td>February</td>\n",
              "      <td>Aaron Maashoh</td>\n",
              "      <td>23</td>\n",
              "      <td>821-00-0265</td>\n",
              "      <td>Scientist</td>\n",
              "      <td>19114.12</td>\n",
              "      <td>NaN</td>\n",
              "      <td>3</td>\n",
              "      <td>...</td>\n",
              "      <td>Good</td>\n",
              "      <td>809.98</td>\n",
              "      <td>31.944960</td>\n",
              "      <td>NaN</td>\n",
              "      <td>No</td>\n",
              "      <td>49.574949</td>\n",
              "      <td>118.28022162236736</td>\n",
              "      <td>Low_spent_Large_value_payments</td>\n",
              "      <td>284.62916249607184</td>\n",
              "      <td>Good</td>\n",
              "    </tr>\n",
              "    <tr>\n",
              "      <th>2</th>\n",
              "      <td>0x1604</td>\n",
              "      <td>CUS_0xd40</td>\n",
              "      <td>March</td>\n",
              "      <td>Aaron Maashoh</td>\n",
              "      <td>-500</td>\n",
              "      <td>821-00-0265</td>\n",
              "      <td>Scientist</td>\n",
              "      <td>19114.12</td>\n",
              "      <td>NaN</td>\n",
              "      <td>3</td>\n",
              "      <td>...</td>\n",
              "      <td>Good</td>\n",
              "      <td>809.98</td>\n",
              "      <td>28.609352</td>\n",
              "      <td>22 Years and 3 Months</td>\n",
              "      <td>No</td>\n",
              "      <td>49.574949</td>\n",
              "      <td>81.699521264648</td>\n",
              "      <td>Low_spent_Medium_value_payments</td>\n",
              "      <td>331.2098628537912</td>\n",
              "      <td>Good</td>\n",
              "    </tr>\n",
              "    <tr>\n",
              "      <th>3</th>\n",
              "      <td>0x1605</td>\n",
              "      <td>CUS_0xd40</td>\n",
              "      <td>April</td>\n",
              "      <td>Aaron Maashoh</td>\n",
              "      <td>23</td>\n",
              "      <td>821-00-0265</td>\n",
              "      <td>Scientist</td>\n",
              "      <td>19114.12</td>\n",
              "      <td>NaN</td>\n",
              "      <td>3</td>\n",
              "      <td>...</td>\n",
              "      <td>Good</td>\n",
              "      <td>809.98</td>\n",
              "      <td>31.377862</td>\n",
              "      <td>22 Years and 4 Months</td>\n",
              "      <td>No</td>\n",
              "      <td>49.574949</td>\n",
              "      <td>199.4580743910713</td>\n",
              "      <td>Low_spent_Small_value_payments</td>\n",
              "      <td>223.45130972736786</td>\n",
              "      <td>Good</td>\n",
              "    </tr>\n",
              "    <tr>\n",
              "      <th>4</th>\n",
              "      <td>0x1606</td>\n",
              "      <td>CUS_0xd40</td>\n",
              "      <td>May</td>\n",
              "      <td>Aaron Maashoh</td>\n",
              "      <td>23</td>\n",
              "      <td>821-00-0265</td>\n",
              "      <td>Scientist</td>\n",
              "      <td>19114.12</td>\n",
              "      <td>1824.843333</td>\n",
              "      <td>3</td>\n",
              "      <td>...</td>\n",
              "      <td>Good</td>\n",
              "      <td>809.98</td>\n",
              "      <td>24.797347</td>\n",
              "      <td>22 Years and 5 Months</td>\n",
              "      <td>No</td>\n",
              "      <td>49.574949</td>\n",
              "      <td>41.420153086217326</td>\n",
              "      <td>High_spent_Medium_value_payments</td>\n",
              "      <td>341.48923103222177</td>\n",
              "      <td>Good</td>\n",
              "    </tr>\n",
              "  </tbody>\n",
              "</table>\n",
              "<p>5 rows × 28 columns</p>\n",
              "</div>\n",
              "    <div class=\"colab-df-buttons\">\n",
              "\n",
              "  <div class=\"colab-df-container\">\n",
              "    <button class=\"colab-df-convert\" onclick=\"convertToInteractive('df-4a5837aa-d1cc-47be-b693-3990b2583f9a')\"\n",
              "            title=\"Convert this dataframe to an interactive table.\"\n",
              "            style=\"display:none;\">\n",
              "\n",
              "  <svg xmlns=\"http://www.w3.org/2000/svg\" height=\"24px\" viewBox=\"0 -960 960 960\">\n",
              "    <path d=\"M120-120v-720h720v720H120Zm60-500h600v-160H180v160Zm220 220h160v-160H400v160Zm0 220h160v-160H400v160ZM180-400h160v-160H180v160Zm440 0h160v-160H620v160ZM180-180h160v-160H180v160Zm440 0h160v-160H620v160Z\"/>\n",
              "  </svg>\n",
              "    </button>\n",
              "\n",
              "  <style>\n",
              "    .colab-df-container {\n",
              "      display:flex;\n",
              "      gap: 12px;\n",
              "    }\n",
              "\n",
              "    .colab-df-convert {\n",
              "      background-color: #E8F0FE;\n",
              "      border: none;\n",
              "      border-radius: 50%;\n",
              "      cursor: pointer;\n",
              "      display: none;\n",
              "      fill: #1967D2;\n",
              "      height: 32px;\n",
              "      padding: 0 0 0 0;\n",
              "      width: 32px;\n",
              "    }\n",
              "\n",
              "    .colab-df-convert:hover {\n",
              "      background-color: #E2EBFA;\n",
              "      box-shadow: 0px 1px 2px rgba(60, 64, 67, 0.3), 0px 1px 3px 1px rgba(60, 64, 67, 0.15);\n",
              "      fill: #174EA6;\n",
              "    }\n",
              "\n",
              "    .colab-df-buttons div {\n",
              "      margin-bottom: 4px;\n",
              "    }\n",
              "\n",
              "    [theme=dark] .colab-df-convert {\n",
              "      background-color: #3B4455;\n",
              "      fill: #D2E3FC;\n",
              "    }\n",
              "\n",
              "    [theme=dark] .colab-df-convert:hover {\n",
              "      background-color: #434B5C;\n",
              "      box-shadow: 0px 1px 3px 1px rgba(0, 0, 0, 0.15);\n",
              "      filter: drop-shadow(0px 1px 2px rgba(0, 0, 0, 0.3));\n",
              "      fill: #FFFFFF;\n",
              "    }\n",
              "  </style>\n",
              "\n",
              "    <script>\n",
              "      const buttonEl =\n",
              "        document.querySelector('#df-4a5837aa-d1cc-47be-b693-3990b2583f9a button.colab-df-convert');\n",
              "      buttonEl.style.display =\n",
              "        google.colab.kernel.accessAllowed ? 'block' : 'none';\n",
              "\n",
              "      async function convertToInteractive(key) {\n",
              "        const element = document.querySelector('#df-4a5837aa-d1cc-47be-b693-3990b2583f9a');\n",
              "        const dataTable =\n",
              "          await google.colab.kernel.invokeFunction('convertToInteractive',\n",
              "                                                    [key], {});\n",
              "        if (!dataTable) return;\n",
              "\n",
              "        const docLinkHtml = 'Like what you see? Visit the ' +\n",
              "          '<a target=\"_blank\" href=https://colab.research.google.com/notebooks/data_table.ipynb>data table notebook</a>'\n",
              "          + ' to learn more about interactive tables.';\n",
              "        element.innerHTML = '';\n",
              "        dataTable['output_type'] = 'display_data';\n",
              "        await google.colab.output.renderOutput(dataTable, element);\n",
              "        const docLink = document.createElement('div');\n",
              "        docLink.innerHTML = docLinkHtml;\n",
              "        element.appendChild(docLink);\n",
              "      }\n",
              "    </script>\n",
              "  </div>\n",
              "\n",
              "\n",
              "<div id=\"df-51e989a0-f8a8-4e28-8652-0f578e11e3c0\">\n",
              "  <button class=\"colab-df-quickchart\" onclick=\"quickchart('df-51e989a0-f8a8-4e28-8652-0f578e11e3c0')\"\n",
              "            title=\"Suggest charts\"\n",
              "            style=\"display:none;\">\n",
              "\n",
              "<svg xmlns=\"http://www.w3.org/2000/svg\" height=\"24px\"viewBox=\"0 0 24 24\"\n",
              "     width=\"24px\">\n",
              "    <g>\n",
              "        <path d=\"M19 3H5c-1.1 0-2 .9-2 2v14c0 1.1.9 2 2 2h14c1.1 0 2-.9 2-2V5c0-1.1-.9-2-2-2zM9 17H7v-7h2v7zm4 0h-2V7h2v10zm4 0h-2v-4h2v4z\"/>\n",
              "    </g>\n",
              "</svg>\n",
              "  </button>\n",
              "\n",
              "<style>\n",
              "  .colab-df-quickchart {\n",
              "      --bg-color: #E8F0FE;\n",
              "      --fill-color: #1967D2;\n",
              "      --hover-bg-color: #E2EBFA;\n",
              "      --hover-fill-color: #174EA6;\n",
              "      --disabled-fill-color: #AAA;\n",
              "      --disabled-bg-color: #DDD;\n",
              "  }\n",
              "\n",
              "  [theme=dark] .colab-df-quickchart {\n",
              "      --bg-color: #3B4455;\n",
              "      --fill-color: #D2E3FC;\n",
              "      --hover-bg-color: #434B5C;\n",
              "      --hover-fill-color: #FFFFFF;\n",
              "      --disabled-bg-color: #3B4455;\n",
              "      --disabled-fill-color: #666;\n",
              "  }\n",
              "\n",
              "  .colab-df-quickchart {\n",
              "    background-color: var(--bg-color);\n",
              "    border: none;\n",
              "    border-radius: 50%;\n",
              "    cursor: pointer;\n",
              "    display: none;\n",
              "    fill: var(--fill-color);\n",
              "    height: 32px;\n",
              "    padding: 0;\n",
              "    width: 32px;\n",
              "  }\n",
              "\n",
              "  .colab-df-quickchart:hover {\n",
              "    background-color: var(--hover-bg-color);\n",
              "    box-shadow: 0 1px 2px rgba(60, 64, 67, 0.3), 0 1px 3px 1px rgba(60, 64, 67, 0.15);\n",
              "    fill: var(--button-hover-fill-color);\n",
              "  }\n",
              "\n",
              "  .colab-df-quickchart-complete:disabled,\n",
              "  .colab-df-quickchart-complete:disabled:hover {\n",
              "    background-color: var(--disabled-bg-color);\n",
              "    fill: var(--disabled-fill-color);\n",
              "    box-shadow: none;\n",
              "  }\n",
              "\n",
              "  .colab-df-spinner {\n",
              "    border: 2px solid var(--fill-color);\n",
              "    border-color: transparent;\n",
              "    border-bottom-color: var(--fill-color);\n",
              "    animation:\n",
              "      spin 1s steps(1) infinite;\n",
              "  }\n",
              "\n",
              "  @keyframes spin {\n",
              "    0% {\n",
              "      border-color: transparent;\n",
              "      border-bottom-color: var(--fill-color);\n",
              "      border-left-color: var(--fill-color);\n",
              "    }\n",
              "    20% {\n",
              "      border-color: transparent;\n",
              "      border-left-color: var(--fill-color);\n",
              "      border-top-color: var(--fill-color);\n",
              "    }\n",
              "    30% {\n",
              "      border-color: transparent;\n",
              "      border-left-color: var(--fill-color);\n",
              "      border-top-color: var(--fill-color);\n",
              "      border-right-color: var(--fill-color);\n",
              "    }\n",
              "    40% {\n",
              "      border-color: transparent;\n",
              "      border-right-color: var(--fill-color);\n",
              "      border-top-color: var(--fill-color);\n",
              "    }\n",
              "    60% {\n",
              "      border-color: transparent;\n",
              "      border-right-color: var(--fill-color);\n",
              "    }\n",
              "    80% {\n",
              "      border-color: transparent;\n",
              "      border-right-color: var(--fill-color);\n",
              "      border-bottom-color: var(--fill-color);\n",
              "    }\n",
              "    90% {\n",
              "      border-color: transparent;\n",
              "      border-bottom-color: var(--fill-color);\n",
              "    }\n",
              "  }\n",
              "</style>\n",
              "\n",
              "  <script>\n",
              "    async function quickchart(key) {\n",
              "      const quickchartButtonEl =\n",
              "        document.querySelector('#' + key + ' button');\n",
              "      quickchartButtonEl.disabled = true;  // To prevent multiple clicks.\n",
              "      quickchartButtonEl.classList.add('colab-df-spinner');\n",
              "      try {\n",
              "        const charts = await google.colab.kernel.invokeFunction(\n",
              "            'suggestCharts', [key], {});\n",
              "      } catch (error) {\n",
              "        console.error('Error during call to suggestCharts:', error);\n",
              "      }\n",
              "      quickchartButtonEl.classList.remove('colab-df-spinner');\n",
              "      quickchartButtonEl.classList.add('colab-df-quickchart-complete');\n",
              "    }\n",
              "    (() => {\n",
              "      let quickchartButtonEl =\n",
              "        document.querySelector('#df-51e989a0-f8a8-4e28-8652-0f578e11e3c0 button');\n",
              "      quickchartButtonEl.style.display =\n",
              "        google.colab.kernel.accessAllowed ? 'block' : 'none';\n",
              "    })();\n",
              "  </script>\n",
              "</div>\n",
              "    </div>\n",
              "  </div>\n"
            ],
            "application/vnd.google.colaboratory.intrinsic+json": {
              "type": "dataframe",
              "variable_name": "train"
            }
          },
          "metadata": {},
          "execution_count": 82
        }
      ]
    },
    {
      "cell_type": "markdown",
      "source": [
        "\n",
        "\n",
        "---\n",
        "\n",
        "\n",
        "# **Mengekstrak angka dari nilai-nilai dan mengonversikan kepada bilangan bulat**\n",
        "\n",
        "\n",
        "---\n",
        "\n"
      ],
      "metadata": {
        "id": "9Fe_Q7QTzDOT"
      }
    },
    {
      "cell_type": "code",
      "source": [
        "train.info()"
      ],
      "metadata": {
        "colab": {
          "base_uri": "https://localhost:8080/"
        },
        "id": "0pjrl27r4eXD",
        "outputId": "9737dfc3-6c5d-496d-ccd1-e6027440ed95"
      },
      "execution_count": 83,
      "outputs": [
        {
          "output_type": "stream",
          "name": "stdout",
          "text": [
            "<class 'pandas.core.frame.DataFrame'>\n",
            "RangeIndex: 100000 entries, 0 to 99999\n",
            "Data columns (total 28 columns):\n",
            " #   Column                    Non-Null Count   Dtype  \n",
            "---  ------                    --------------   -----  \n",
            " 0   ID                        100000 non-null  object \n",
            " 1   Customer_ID               100000 non-null  object \n",
            " 2   Month                     100000 non-null  object \n",
            " 3   Name                      90015 non-null   object \n",
            " 4   Age                       100000 non-null  object \n",
            " 5   SSN                       100000 non-null  object \n",
            " 6   Occupation                100000 non-null  object \n",
            " 7   Annual_Income             100000 non-null  object \n",
            " 8   Monthly_Inhand_Salary     84998 non-null   float64\n",
            " 9   Num_Bank_Accounts         100000 non-null  int64  \n",
            " 10  Num_Credit_Card           100000 non-null  int64  \n",
            " 11  Interest_Rate             100000 non-null  int64  \n",
            " 12  Num_of_Loan               100000 non-null  object \n",
            " 13  Type_of_Loan              88592 non-null   object \n",
            " 14  Delay_from_due_date       100000 non-null  int64  \n",
            " 15  Num_of_Delayed_Payment    92998 non-null   object \n",
            " 16  Changed_Credit_Limit      100000 non-null  object \n",
            " 17  Num_Credit_Inquiries      98035 non-null   float64\n",
            " 18  Credit_Mix                100000 non-null  object \n",
            " 19  Outstanding_Debt          100000 non-null  object \n",
            " 20  Credit_Utilization_Ratio  100000 non-null  float64\n",
            " 21  Credit_History_Age        90970 non-null   object \n",
            " 22  Payment_of_Min_Amount     100000 non-null  object \n",
            " 23  Total_EMI_per_month       100000 non-null  float64\n",
            " 24  Amount_invested_monthly   95521 non-null   object \n",
            " 25  Payment_Behaviour         100000 non-null  object \n",
            " 26  Monthly_Balance           98800 non-null   object \n",
            " 27  Credit_Score              100000 non-null  object \n",
            "dtypes: float64(4), int64(4), object(20)\n",
            "memory usage: 21.4+ MB\n"
          ]
        }
      ]
    },
    {
      "cell_type": "markdown",
      "source": [
        "Pembersihan data"
      ],
      "metadata": {
        "id": "J8__RQVI1W_F"
      }
    },
    {
      "cell_type": "code",
      "source": [
        "train['Age'] = train['Age'].fillna('0').str.extract('(\\d+)').astype(float).astype(int)\n",
        "train['Num_of_Loan'] = train['Num_of_Loan'].fillna('0').str.extract('(\\d+)').astype(float).astype(int)\n",
        "train['Num_of_Delayed_Payment'] = train['Num_of_Delayed_Payment'].fillna('0').str.extract('(\\d+)').astype(float).astype(int)"
      ],
      "metadata": {
        "id": "OW1q1oNmzdTz"
      },
      "execution_count": 84,
      "outputs": []
    },
    {
      "cell_type": "markdown",
      "source": [
        "membersihkan dan memformat data dalam beberapa kolom tertentu dalam DataFrame"
      ],
      "metadata": {
        "id": "CN3aWLun1Z87"
      }
    },
    {
      "cell_type": "code",
      "source": [
        "train['Annual_Income'] = train['Annual_Income'].str.replace(r'[^0-9.]', '', regex=True)\n",
        "train['Annual_Income'] = train['Annual_Income'].astype(float)"
      ],
      "metadata": {
        "id": "1_rA5qvhzuXd"
      },
      "execution_count": 85,
      "outputs": []
    },
    {
      "cell_type": "markdown",
      "source": [
        "membersihkan kolom 'Annual_Income' dari karakter non-numerik dan mengonversi nilainya menjadi tipe data float."
      ],
      "metadata": {
        "id": "lqjEmF_r1zHD"
      }
    },
    {
      "cell_type": "code",
      "source": [
        "train['Changed_Credit_Limit'] = train['Changed_Credit_Limit'].replace('_', np.nan)\n",
        "train['Changed_Credit_Limit'] = pd.to_numeric(train['Changed_Credit_Limit'], errors='coerce')\n",
        "train['Changed_Credit_Limit'] = train['Changed_Credit_Limit'].fillna(0)"
      ],
      "metadata": {
        "id": "hJie5ZJwzybp"
      },
      "execution_count": 86,
      "outputs": []
    },
    {
      "cell_type": "markdown",
      "source": [
        "membersihkan dan memformat kolom 'Changed_Credit_Limit' dalam DataFrame"
      ],
      "metadata": {
        "id": "iChlL9322a2A"
      }
    },
    {
      "cell_type": "code",
      "source": [
        "train['Outstanding_Debt'] = train['Outstanding_Debt'].astype(str)\n",
        "train['Outstanding_Debt'] = train['Outstanding_Debt'].str.replace(r'[^0-9.]', '', regex=True)\n",
        "train['Outstanding_Debt'] = pd.to_numeric(train['Outstanding_Debt'], errors='coerce')\n",
        "train['Outstanding_Debt'] = train['Outstanding_Debt'].fillna(0)"
      ],
      "metadata": {
        "id": "ewijtzXjz3NX"
      },
      "execution_count": 87,
      "outputs": []
    },
    {
      "cell_type": "markdown",
      "source": [
        "membersihkan dan memformat kolom 'Outstanding_Debt' dalam DataFrame"
      ],
      "metadata": {
        "id": "WN6SL-cR2qBp"
      }
    },
    {
      "cell_type": "code",
      "source": [
        "train['Amount_invested_monthly'] = train['Amount_invested_monthly'].astype(str)\n",
        "train['Amount_invested_monthly'] = train['Amount_invested_monthly'].replace('', '0')\n",
        "train['Amount_invested_monthly'] = train['Amount_invested_monthly'].str.replace(r'[^0-9.]', '')\n",
        "train['Amount_invested_monthly'] = pd.to_numeric(train['Amount_invested_monthly'], errors='coerce')\n",
        "train['Amount_invested_monthly'] = train['Amount_invested_monthly'].fillna(0)"
      ],
      "metadata": {
        "id": "H0FQ0Slkz9kr"
      },
      "execution_count": 88,
      "outputs": []
    },
    {
      "cell_type": "markdown",
      "source": [
        "membersihkan dan memformat kolom 'Amount_invested_mounthly' dalam DataFrame"
      ],
      "metadata": {
        "id": "r7I-wahD3C_2"
      }
    },
    {
      "cell_type": "code",
      "source": [
        "train['Monthly_Balance'] = train['Monthly_Balance'].astype(str)\n",
        "train['Monthly_Balance'] = train['Monthly_Balance'].str.replace(r'[^0-9.-]+', '')\n",
        "train['Monthly_Balance'] = pd.to_numeric(train['Monthly_Balance'], errors='coerce')\n",
        "train['Monthly_Balance'] = train['Monthly_Balance'].fillna(0)"
      ],
      "metadata": {
        "id": "haQG6WJ9Dygk"
      },
      "execution_count": 89,
      "outputs": []
    },
    {
      "cell_type": "markdown",
      "source": [
        "membersihkan dan memformat kolom 'Monthly_Balance' dalam DataFrame"
      ],
      "metadata": {
        "id": "oSyRE8gLFOuL"
      }
    },
    {
      "cell_type": "code",
      "source": [
        "def parse_years_and_months(age):\n",
        "    if isinstance(age, str):\n",
        "        age_parts = age.split(' Years and ')\n",
        "        years = int(age_parts[0]) if 'Years' in age else 0\n",
        "        months_str = age_parts[1].split(' Months')[0] if 'Months' in age_parts[1] else '0'\n",
        "        months = int(months_str)\n",
        "        total_months = years * 12 + months\n",
        "        return total_months\n",
        "    else:\n",
        "        return 0\n",
        "\n",
        "train['Credit_History_Age_Months'] = train['Credit_History_Age'].apply(parse_years_and_months)"
      ],
      "metadata": {
        "id": "5iYOoFWp0Afo"
      },
      "execution_count": 90,
      "outputs": []
    },
    {
      "cell_type": "markdown",
      "source": [
        "mendefinisikan sebuah fungsi bernama parse_years_and_months(age) yang bertujuan untuk mengonversi data usia kredit dalam format string \"X Years and Y Months\" menjadi jumlah bulan."
      ],
      "metadata": {
        "id": "Gpw9kMvVFU4c"
      }
    },
    {
      "cell_type": "markdown",
      "source": [
        "\n",
        "\n",
        "---\n",
        "\n",
        "\n",
        "# Memproses data dan Duplikat data pada DataFrame\n",
        "\n",
        "\n",
        "---\n",
        "\n"
      ],
      "metadata": {
        "id": "hrOsTXLv0Srt"
      }
    },
    {
      "cell_type": "code",
      "source": [
        "# Mencari baris duplikat dalam DataFrame\n",
        "duplicates = train[train.duplicated()]\n",
        "\n",
        "# Menghitung jumlah baris duplikat yang ada dalam DataFrame\n",
        "num_duplicates = duplicates.shape[0]\n",
        "\n",
        "# Pengujian kondisional\n",
        "if num_duplicates == 0: #kondisional statement yang memeriksa apakah jumlah duplikat adalah 0 atau tidak.\n",
        "    print(\"Tidak ada duplikat\") #Jika tidak ada duplikat yang ditemukan, pernyataan ini akan dicetak, memberi tahu pengguna bahwa tidak ada duplikat dalam DataFrame\n",
        "else:\n",
        "    print(\"Masih ada\", num_duplicates, \"duplikat.\") #Jika masih ada duplikat yang ditemukan, pernyataan ini akan dicetak, memberi tahu pengguna bahwa masih ada sejumlah duplikat yang ditemukan dalam DataFrame"
      ],
      "metadata": {
        "colab": {
          "base_uri": "https://localhost:8080/"
        },
        "id": "iIXKGnfC0_Td",
        "outputId": "285962d2-bc63-49f8-eb07-9ceab9052a24"
      },
      "execution_count": 91,
      "outputs": [
        {
          "output_type": "stream",
          "name": "stdout",
          "text": [
            "Tidak ada duplikat\n"
          ]
        }
      ]
    },
    {
      "cell_type": "markdown",
      "source": [
        "Membersihkan data"
      ],
      "metadata": {
        "id": "f_2pc67C4UZg"
      }
    },
    {
      "cell_type": "code",
      "source": [
        "# Pilih kolom tertentu\n",
        "selected_columns_train = train[['Num_Bank_Accounts', 'Interest_Rate', 'Annual_Income', 'Num_of_Delayed_Payment', 'Num_Credit_Inquiries', 'Total_EMI_per_month', 'Num_of_Loan', 'Num_Credit_Card']]\n",
        "\n",
        "# Tentukan persentil untuk setiap kolom yang dipilih\n",
        "percentile_threshold = 0.98\n",
        "percentiles = selected_columns_train.quantile(percentile_threshold)\n",
        "\n",
        "# Hapus perulangan nilai untuk setiap kolom yang masih diatas persentil yang ditentukan sebelumnya\n",
        "for column in selected_columns_train.columns:\n",
        "    train = train[train[column] <= percentiles[column]]"
      ],
      "metadata": {
        "id": "FdW0cWkeCk_3"
      },
      "execution_count": 92,
      "outputs": []
    },
    {
      "cell_type": "code",
      "source": [
        "train.describe().T"
      ],
      "metadata": {
        "colab": {
          "base_uri": "https://localhost:8080/",
          "height": 551
        },
        "id": "Rtyhgqe74WVP",
        "outputId": "0b7cc48f-6b66-445f-9e3d-93c7d01d3d8f"
      },
      "execution_count": 36,
      "outputs": [
        {
          "output_type": "execute_result",
          "data": {
            "text/plain": [
              "                              count         mean          std         min  \\\n",
              "Age                        100000.0   119.509700   684.757313   14.000000   \n",
              "Monthly_Inhand_Salary       84998.0  4194.170850  3183.686167  303.645417   \n",
              "Num_Bank_Accounts          100000.0    17.091280   117.404834   -1.000000   \n",
              "Num_Credit_Card            100000.0    22.474430   129.057410    0.000000   \n",
              "Interest_Rate              100000.0    72.466040   466.422621    1.000000   \n",
              "Num_of_Loan                100000.0    10.761960    61.789933    0.000000   \n",
              "Delay_from_due_date        100000.0    21.068780    14.860104   -5.000000   \n",
              "Num_of_Delayed_Payment     100000.0    28.779410   218.114813    0.000000   \n",
              "Changed_Credit_Limit       100000.0    10.171791     6.880628   -6.490000   \n",
              "Num_Credit_Inquiries        98035.0    27.754251   193.177339    0.000000   \n",
              "Outstanding_Debt           100000.0  1426.220376  1155.129026    0.230000   \n",
              "Credit_Utilization_Ratio   100000.0    32.285173     5.116875   20.000000   \n",
              "Total_EMI_per_month        100000.0  1403.118217  8306.041270    0.000000   \n",
              "Amount_invested_monthly    100000.0   178.363270   198.472368    0.000000   \n",
              "Monthly_Balance            100000.0   397.684413   217.132017    0.000000   \n",
              "Credit_History_Age_Months  100000.0   201.221460   114.320699    0.000000   \n",
              "\n",
              "                                   25%          50%          75%           max  \n",
              "Age                          25.000000    34.000000    42.000000   8698.000000  \n",
              "Monthly_Inhand_Salary      1625.568229  3093.745000  5957.448333  15204.633333  \n",
              "Num_Bank_Accounts             3.000000     6.000000     7.000000   1798.000000  \n",
              "Num_Credit_Card               4.000000     5.000000     7.000000   1499.000000  \n",
              "Interest_Rate                 8.000000    13.000000    20.000000   5797.000000  \n",
              "Num_of_Loan                   2.000000     3.000000     6.000000   1496.000000  \n",
              "Delay_from_due_date          10.000000    18.000000    28.000000     67.000000  \n",
              "Num_of_Delayed_Payment        8.000000    13.000000    18.000000   4397.000000  \n",
              "Changed_Credit_Limit          4.970000     9.250000    14.660000     36.970000  \n",
              "Num_Credit_Inquiries          3.000000     6.000000     9.000000   2597.000000  \n",
              "Outstanding_Debt            566.072500  1166.155000  1945.962500   4998.070000  \n",
              "Credit_Utilization_Ratio     28.052567    32.305784    36.496663     50.000000  \n",
              "Total_EMI_per_month          30.306660    69.249473   161.224249  82331.000000  \n",
              "Amount_invested_monthly      58.325837   116.545252   220.039055   1977.326102  \n",
              "Monthly_Balance             267.871374   334.806633   467.670597   1602.040519  \n",
              "Credit_History_Age_Months   114.000000   208.000000   292.000000    404.000000  "
            ],
            "text/html": [
              "\n",
              "  <div id=\"df-7fafd5df-1408-42dc-a7a6-f09aa95b6afc\" class=\"colab-df-container\">\n",
              "    <div>\n",
              "<style scoped>\n",
              "    .dataframe tbody tr th:only-of-type {\n",
              "        vertical-align: middle;\n",
              "    }\n",
              "\n",
              "    .dataframe tbody tr th {\n",
              "        vertical-align: top;\n",
              "    }\n",
              "\n",
              "    .dataframe thead th {\n",
              "        text-align: right;\n",
              "    }\n",
              "</style>\n",
              "<table border=\"1\" class=\"dataframe\">\n",
              "  <thead>\n",
              "    <tr style=\"text-align: right;\">\n",
              "      <th></th>\n",
              "      <th>count</th>\n",
              "      <th>mean</th>\n",
              "      <th>std</th>\n",
              "      <th>min</th>\n",
              "      <th>25%</th>\n",
              "      <th>50%</th>\n",
              "      <th>75%</th>\n",
              "      <th>max</th>\n",
              "    </tr>\n",
              "  </thead>\n",
              "  <tbody>\n",
              "    <tr>\n",
              "      <th>Age</th>\n",
              "      <td>100000.0</td>\n",
              "      <td>119.509700</td>\n",
              "      <td>684.757313</td>\n",
              "      <td>14.000000</td>\n",
              "      <td>25.000000</td>\n",
              "      <td>34.000000</td>\n",
              "      <td>42.000000</td>\n",
              "      <td>8698.000000</td>\n",
              "    </tr>\n",
              "    <tr>\n",
              "      <th>Monthly_Inhand_Salary</th>\n",
              "      <td>84998.0</td>\n",
              "      <td>4194.170850</td>\n",
              "      <td>3183.686167</td>\n",
              "      <td>303.645417</td>\n",
              "      <td>1625.568229</td>\n",
              "      <td>3093.745000</td>\n",
              "      <td>5957.448333</td>\n",
              "      <td>15204.633333</td>\n",
              "    </tr>\n",
              "    <tr>\n",
              "      <th>Num_Bank_Accounts</th>\n",
              "      <td>100000.0</td>\n",
              "      <td>17.091280</td>\n",
              "      <td>117.404834</td>\n",
              "      <td>-1.000000</td>\n",
              "      <td>3.000000</td>\n",
              "      <td>6.000000</td>\n",
              "      <td>7.000000</td>\n",
              "      <td>1798.000000</td>\n",
              "    </tr>\n",
              "    <tr>\n",
              "      <th>Num_Credit_Card</th>\n",
              "      <td>100000.0</td>\n",
              "      <td>22.474430</td>\n",
              "      <td>129.057410</td>\n",
              "      <td>0.000000</td>\n",
              "      <td>4.000000</td>\n",
              "      <td>5.000000</td>\n",
              "      <td>7.000000</td>\n",
              "      <td>1499.000000</td>\n",
              "    </tr>\n",
              "    <tr>\n",
              "      <th>Interest_Rate</th>\n",
              "      <td>100000.0</td>\n",
              "      <td>72.466040</td>\n",
              "      <td>466.422621</td>\n",
              "      <td>1.000000</td>\n",
              "      <td>8.000000</td>\n",
              "      <td>13.000000</td>\n",
              "      <td>20.000000</td>\n",
              "      <td>5797.000000</td>\n",
              "    </tr>\n",
              "    <tr>\n",
              "      <th>Num_of_Loan</th>\n",
              "      <td>100000.0</td>\n",
              "      <td>10.761960</td>\n",
              "      <td>61.789933</td>\n",
              "      <td>0.000000</td>\n",
              "      <td>2.000000</td>\n",
              "      <td>3.000000</td>\n",
              "      <td>6.000000</td>\n",
              "      <td>1496.000000</td>\n",
              "    </tr>\n",
              "    <tr>\n",
              "      <th>Delay_from_due_date</th>\n",
              "      <td>100000.0</td>\n",
              "      <td>21.068780</td>\n",
              "      <td>14.860104</td>\n",
              "      <td>-5.000000</td>\n",
              "      <td>10.000000</td>\n",
              "      <td>18.000000</td>\n",
              "      <td>28.000000</td>\n",
              "      <td>67.000000</td>\n",
              "    </tr>\n",
              "    <tr>\n",
              "      <th>Num_of_Delayed_Payment</th>\n",
              "      <td>100000.0</td>\n",
              "      <td>28.779410</td>\n",
              "      <td>218.114813</td>\n",
              "      <td>0.000000</td>\n",
              "      <td>8.000000</td>\n",
              "      <td>13.000000</td>\n",
              "      <td>18.000000</td>\n",
              "      <td>4397.000000</td>\n",
              "    </tr>\n",
              "    <tr>\n",
              "      <th>Changed_Credit_Limit</th>\n",
              "      <td>100000.0</td>\n",
              "      <td>10.171791</td>\n",
              "      <td>6.880628</td>\n",
              "      <td>-6.490000</td>\n",
              "      <td>4.970000</td>\n",
              "      <td>9.250000</td>\n",
              "      <td>14.660000</td>\n",
              "      <td>36.970000</td>\n",
              "    </tr>\n",
              "    <tr>\n",
              "      <th>Num_Credit_Inquiries</th>\n",
              "      <td>98035.0</td>\n",
              "      <td>27.754251</td>\n",
              "      <td>193.177339</td>\n",
              "      <td>0.000000</td>\n",
              "      <td>3.000000</td>\n",
              "      <td>6.000000</td>\n",
              "      <td>9.000000</td>\n",
              "      <td>2597.000000</td>\n",
              "    </tr>\n",
              "    <tr>\n",
              "      <th>Outstanding_Debt</th>\n",
              "      <td>100000.0</td>\n",
              "      <td>1426.220376</td>\n",
              "      <td>1155.129026</td>\n",
              "      <td>0.230000</td>\n",
              "      <td>566.072500</td>\n",
              "      <td>1166.155000</td>\n",
              "      <td>1945.962500</td>\n",
              "      <td>4998.070000</td>\n",
              "    </tr>\n",
              "    <tr>\n",
              "      <th>Credit_Utilization_Ratio</th>\n",
              "      <td>100000.0</td>\n",
              "      <td>32.285173</td>\n",
              "      <td>5.116875</td>\n",
              "      <td>20.000000</td>\n",
              "      <td>28.052567</td>\n",
              "      <td>32.305784</td>\n",
              "      <td>36.496663</td>\n",
              "      <td>50.000000</td>\n",
              "    </tr>\n",
              "    <tr>\n",
              "      <th>Total_EMI_per_month</th>\n",
              "      <td>100000.0</td>\n",
              "      <td>1403.118217</td>\n",
              "      <td>8306.041270</td>\n",
              "      <td>0.000000</td>\n",
              "      <td>30.306660</td>\n",
              "      <td>69.249473</td>\n",
              "      <td>161.224249</td>\n",
              "      <td>82331.000000</td>\n",
              "    </tr>\n",
              "    <tr>\n",
              "      <th>Amount_invested_monthly</th>\n",
              "      <td>100000.0</td>\n",
              "      <td>178.363270</td>\n",
              "      <td>198.472368</td>\n",
              "      <td>0.000000</td>\n",
              "      <td>58.325837</td>\n",
              "      <td>116.545252</td>\n",
              "      <td>220.039055</td>\n",
              "      <td>1977.326102</td>\n",
              "    </tr>\n",
              "    <tr>\n",
              "      <th>Monthly_Balance</th>\n",
              "      <td>100000.0</td>\n",
              "      <td>397.684413</td>\n",
              "      <td>217.132017</td>\n",
              "      <td>0.000000</td>\n",
              "      <td>267.871374</td>\n",
              "      <td>334.806633</td>\n",
              "      <td>467.670597</td>\n",
              "      <td>1602.040519</td>\n",
              "    </tr>\n",
              "    <tr>\n",
              "      <th>Credit_History_Age_Months</th>\n",
              "      <td>100000.0</td>\n",
              "      <td>201.221460</td>\n",
              "      <td>114.320699</td>\n",
              "      <td>0.000000</td>\n",
              "      <td>114.000000</td>\n",
              "      <td>208.000000</td>\n",
              "      <td>292.000000</td>\n",
              "      <td>404.000000</td>\n",
              "    </tr>\n",
              "  </tbody>\n",
              "</table>\n",
              "</div>\n",
              "    <div class=\"colab-df-buttons\">\n",
              "\n",
              "  <div class=\"colab-df-container\">\n",
              "    <button class=\"colab-df-convert\" onclick=\"convertToInteractive('df-7fafd5df-1408-42dc-a7a6-f09aa95b6afc')\"\n",
              "            title=\"Convert this dataframe to an interactive table.\"\n",
              "            style=\"display:none;\">\n",
              "\n",
              "  <svg xmlns=\"http://www.w3.org/2000/svg\" height=\"24px\" viewBox=\"0 -960 960 960\">\n",
              "    <path d=\"M120-120v-720h720v720H120Zm60-500h600v-160H180v160Zm220 220h160v-160H400v160Zm0 220h160v-160H400v160ZM180-400h160v-160H180v160Zm440 0h160v-160H620v160ZM180-180h160v-160H180v160Zm440 0h160v-160H620v160Z\"/>\n",
              "  </svg>\n",
              "    </button>\n",
              "\n",
              "  <style>\n",
              "    .colab-df-container {\n",
              "      display:flex;\n",
              "      gap: 12px;\n",
              "    }\n",
              "\n",
              "    .colab-df-convert {\n",
              "      background-color: #E8F0FE;\n",
              "      border: none;\n",
              "      border-radius: 50%;\n",
              "      cursor: pointer;\n",
              "      display: none;\n",
              "      fill: #1967D2;\n",
              "      height: 32px;\n",
              "      padding: 0 0 0 0;\n",
              "      width: 32px;\n",
              "    }\n",
              "\n",
              "    .colab-df-convert:hover {\n",
              "      background-color: #E2EBFA;\n",
              "      box-shadow: 0px 1px 2px rgba(60, 64, 67, 0.3), 0px 1px 3px 1px rgba(60, 64, 67, 0.15);\n",
              "      fill: #174EA6;\n",
              "    }\n",
              "\n",
              "    .colab-df-buttons div {\n",
              "      margin-bottom: 4px;\n",
              "    }\n",
              "\n",
              "    [theme=dark] .colab-df-convert {\n",
              "      background-color: #3B4455;\n",
              "      fill: #D2E3FC;\n",
              "    }\n",
              "\n",
              "    [theme=dark] .colab-df-convert:hover {\n",
              "      background-color: #434B5C;\n",
              "      box-shadow: 0px 1px 3px 1px rgba(0, 0, 0, 0.15);\n",
              "      filter: drop-shadow(0px 1px 2px rgba(0, 0, 0, 0.3));\n",
              "      fill: #FFFFFF;\n",
              "    }\n",
              "  </style>\n",
              "\n",
              "    <script>\n",
              "      const buttonEl =\n",
              "        document.querySelector('#df-7fafd5df-1408-42dc-a7a6-f09aa95b6afc button.colab-df-convert');\n",
              "      buttonEl.style.display =\n",
              "        google.colab.kernel.accessAllowed ? 'block' : 'none';\n",
              "\n",
              "      async function convertToInteractive(key) {\n",
              "        const element = document.querySelector('#df-7fafd5df-1408-42dc-a7a6-f09aa95b6afc');\n",
              "        const dataTable =\n",
              "          await google.colab.kernel.invokeFunction('convertToInteractive',\n",
              "                                                    [key], {});\n",
              "        if (!dataTable) return;\n",
              "\n",
              "        const docLinkHtml = 'Like what you see? Visit the ' +\n",
              "          '<a target=\"_blank\" href=https://colab.research.google.com/notebooks/data_table.ipynb>data table notebook</a>'\n",
              "          + ' to learn more about interactive tables.';\n",
              "        element.innerHTML = '';\n",
              "        dataTable['output_type'] = 'display_data';\n",
              "        await google.colab.output.renderOutput(dataTable, element);\n",
              "        const docLink = document.createElement('div');\n",
              "        docLink.innerHTML = docLinkHtml;\n",
              "        element.appendChild(docLink);\n",
              "      }\n",
              "    </script>\n",
              "  </div>\n",
              "\n",
              "\n",
              "<div id=\"df-b1b1642b-a80e-4514-a44a-c02b19459d10\">\n",
              "  <button class=\"colab-df-quickchart\" onclick=\"quickchart('df-b1b1642b-a80e-4514-a44a-c02b19459d10')\"\n",
              "            title=\"Suggest charts\"\n",
              "            style=\"display:none;\">\n",
              "\n",
              "<svg xmlns=\"http://www.w3.org/2000/svg\" height=\"24px\"viewBox=\"0 0 24 24\"\n",
              "     width=\"24px\">\n",
              "    <g>\n",
              "        <path d=\"M19 3H5c-1.1 0-2 .9-2 2v14c0 1.1.9 2 2 2h14c1.1 0 2-.9 2-2V5c0-1.1-.9-2-2-2zM9 17H7v-7h2v7zm4 0h-2V7h2v10zm4 0h-2v-4h2v4z\"/>\n",
              "    </g>\n",
              "</svg>\n",
              "  </button>\n",
              "\n",
              "<style>\n",
              "  .colab-df-quickchart {\n",
              "      --bg-color: #E8F0FE;\n",
              "      --fill-color: #1967D2;\n",
              "      --hover-bg-color: #E2EBFA;\n",
              "      --hover-fill-color: #174EA6;\n",
              "      --disabled-fill-color: #AAA;\n",
              "      --disabled-bg-color: #DDD;\n",
              "  }\n",
              "\n",
              "  [theme=dark] .colab-df-quickchart {\n",
              "      --bg-color: #3B4455;\n",
              "      --fill-color: #D2E3FC;\n",
              "      --hover-bg-color: #434B5C;\n",
              "      --hover-fill-color: #FFFFFF;\n",
              "      --disabled-bg-color: #3B4455;\n",
              "      --disabled-fill-color: #666;\n",
              "  }\n",
              "\n",
              "  .colab-df-quickchart {\n",
              "    background-color: var(--bg-color);\n",
              "    border: none;\n",
              "    border-radius: 50%;\n",
              "    cursor: pointer;\n",
              "    display: none;\n",
              "    fill: var(--fill-color);\n",
              "    height: 32px;\n",
              "    padding: 0;\n",
              "    width: 32px;\n",
              "  }\n",
              "\n",
              "  .colab-df-quickchart:hover {\n",
              "    background-color: var(--hover-bg-color);\n",
              "    box-shadow: 0 1px 2px rgba(60, 64, 67, 0.3), 0 1px 3px 1px rgba(60, 64, 67, 0.15);\n",
              "    fill: var(--button-hover-fill-color);\n",
              "  }\n",
              "\n",
              "  .colab-df-quickchart-complete:disabled,\n",
              "  .colab-df-quickchart-complete:disabled:hover {\n",
              "    background-color: var(--disabled-bg-color);\n",
              "    fill: var(--disabled-fill-color);\n",
              "    box-shadow: none;\n",
              "  }\n",
              "\n",
              "  .colab-df-spinner {\n",
              "    border: 2px solid var(--fill-color);\n",
              "    border-color: transparent;\n",
              "    border-bottom-color: var(--fill-color);\n",
              "    animation:\n",
              "      spin 1s steps(1) infinite;\n",
              "  }\n",
              "\n",
              "  @keyframes spin {\n",
              "    0% {\n",
              "      border-color: transparent;\n",
              "      border-bottom-color: var(--fill-color);\n",
              "      border-left-color: var(--fill-color);\n",
              "    }\n",
              "    20% {\n",
              "      border-color: transparent;\n",
              "      border-left-color: var(--fill-color);\n",
              "      border-top-color: var(--fill-color);\n",
              "    }\n",
              "    30% {\n",
              "      border-color: transparent;\n",
              "      border-left-color: var(--fill-color);\n",
              "      border-top-color: var(--fill-color);\n",
              "      border-right-color: var(--fill-color);\n",
              "    }\n",
              "    40% {\n",
              "      border-color: transparent;\n",
              "      border-right-color: var(--fill-color);\n",
              "      border-top-color: var(--fill-color);\n",
              "    }\n",
              "    60% {\n",
              "      border-color: transparent;\n",
              "      border-right-color: var(--fill-color);\n",
              "    }\n",
              "    80% {\n",
              "      border-color: transparent;\n",
              "      border-right-color: var(--fill-color);\n",
              "      border-bottom-color: var(--fill-color);\n",
              "    }\n",
              "    90% {\n",
              "      border-color: transparent;\n",
              "      border-bottom-color: var(--fill-color);\n",
              "    }\n",
              "  }\n",
              "</style>\n",
              "\n",
              "  <script>\n",
              "    async function quickchart(key) {\n",
              "      const quickchartButtonEl =\n",
              "        document.querySelector('#' + key + ' button');\n",
              "      quickchartButtonEl.disabled = true;  // To prevent multiple clicks.\n",
              "      quickchartButtonEl.classList.add('colab-df-spinner');\n",
              "      try {\n",
              "        const charts = await google.colab.kernel.invokeFunction(\n",
              "            'suggestCharts', [key], {});\n",
              "      } catch (error) {\n",
              "        console.error('Error during call to suggestCharts:', error);\n",
              "      }\n",
              "      quickchartButtonEl.classList.remove('colab-df-spinner');\n",
              "      quickchartButtonEl.classList.add('colab-df-quickchart-complete');\n",
              "    }\n",
              "    (() => {\n",
              "      let quickchartButtonEl =\n",
              "        document.querySelector('#df-b1b1642b-a80e-4514-a44a-c02b19459d10 button');\n",
              "      quickchartButtonEl.style.display =\n",
              "        google.colab.kernel.accessAllowed ? 'block' : 'none';\n",
              "    })();\n",
              "  </script>\n",
              "</div>\n",
              "    </div>\n",
              "  </div>\n"
            ],
            "application/vnd.google.colaboratory.intrinsic+json": {
              "type": "dataframe",
              "summary": "{\n  \"name\": \"train\",\n  \"rows\": 16,\n  \"fields\": [\n    {\n      \"column\": \"count\",\n      \"properties\": {\n        \"dtype\": \"number\",\n        \"std\": 3749.9225408666775,\n        \"min\": 84998.0,\n        \"max\": 100000.0,\n        \"num_unique_values\": 3,\n        \"samples\": [\n          100000.0,\n          84998.0,\n          98035.0\n        ],\n        \"semantic_type\": \"\",\n        \"description\": \"\"\n      }\n    },\n    {\n      \"column\": \"mean\",\n      \"properties\": {\n        \"dtype\": \"number\",\n        \"std\": 1085.7624404827498,\n        \"min\": 10.1717906,\n        \"max\": 4194.170849600523,\n        \"num_unique_values\": 16,\n        \"samples\": [\n          119.5097,\n          4194.170849600523,\n          10.76196\n        ],\n        \"semantic_type\": \"\",\n        \"description\": \"\"\n      }\n    },\n    {\n      \"column\": \"std\",\n      \"properties\": {\n        \"dtype\": \"number\",\n        \"std\": 2116.0889495588162,\n        \"min\": 5.116875070150906,\n        \"max\": 8306.041270321723,\n        \"num_unique_values\": 16,\n        \"samples\": [\n          684.7573134999684,\n          3183.686166873262,\n          61.7899328120396\n        ],\n        \"semantic_type\": \"\",\n        \"description\": \"\"\n      }\n    },\n    {\n      \"column\": \"min\",\n      \"properties\": {\n        \"dtype\": \"number\",\n        \"std\": 75.81017831812186,\n        \"min\": -6.49,\n        \"max\": 303.6454166666666,\n        \"num_unique_values\": 9,\n        \"samples\": [\n          0.23,\n          303.6454166666666,\n          -5.0\n        ],\n        \"semantic_type\": \"\",\n        \"description\": \"\"\n      }\n    },\n    {\n      \"column\": \"25%\",\n      \"properties\": {\n        \"dtype\": \"number\",\n        \"std\": 414.5854457684609,\n        \"min\": 2.0,\n        \"max\": 1625.5682291666667,\n        \"num_unique_values\": 14,\n        \"samples\": [\n          28.05256656125577,\n          58.325836901362365,\n          25.0\n        ],\n        \"semantic_type\": \"\",\n        \"description\": \"\"\n      }\n    },\n    {\n      \"column\": \"50%\",\n      \"properties\": {\n        \"dtype\": \"number\",\n        \"std\": 794.3301569553386,\n        \"min\": 3.0,\n        \"max\": 3093.745000000001,\n        \"num_unique_values\": 14,\n        \"samples\": [\n          32.30578367171092,\n          116.54525221966202,\n          34.0\n        ],\n        \"semantic_type\": \"\",\n        \"description\": \"\"\n      }\n    },\n    {\n      \"column\": \"75%\",\n      \"properties\": {\n        \"dtype\": \"number\",\n        \"std\": 1512.9208443836267,\n        \"min\": 6.0,\n        \"max\": 5957.448333333334,\n        \"num_unique_values\": 15,\n        \"samples\": [\n          1945.9625,\n          161.22424910969863,\n          42.0\n        ],\n        \"semantic_type\": \"\",\n        \"description\": \"\"\n      }\n    },\n    {\n      \"column\": \"max\",\n      \"properties\": {\n        \"dtype\": \"number\",\n        \"std\": 20132.026539113856,\n        \"min\": 36.97,\n        \"max\": 82331.0,\n        \"num_unique_values\": 16,\n        \"samples\": [\n          8698.0,\n          15204.633333333331,\n          1496.0\n        ],\n        \"semantic_type\": \"\",\n        \"description\": \"\"\n      }\n    }\n  ]\n}"
            }
          },
          "metadata": {},
          "execution_count": 36
        }
      ]
    },
    {
      "cell_type": "code",
      "source": [
        "# menghapus baris dari DataFrame, di mana nilai dalam kolom 'Payment_Behaviour' adalah '!@9#%8'.\n",
        "train = train[train['Payment_Behaviour'] != '!@9#%8']\n",
        "\n",
        "# menghapus baris dari DataFrame train di mana nilai dalam kolom 'Occupation' adalah '' (enam garis bawah). Prinsipnya sama dengan langkah pertama, di mana kita menggunakan filter yang dibuat oleh ekspresi\n",
        "train = train[train['Occupation'] != '_______']\n",
        "\n",
        "# mencetak nilai unik yang ada dalam kolom 'Occupation' dari DataFrame\n",
        "print(train['Occupation'].unique())\n",
        ""
      ],
      "metadata": {
        "colab": {
          "base_uri": "https://localhost:8080/"
        },
        "id": "aSUey3my8iEf",
        "outputId": "92c84209-3fff-4405-ed84-62ebaaf48fc9"
      },
      "execution_count": 93,
      "outputs": [
        {
          "output_type": "stream",
          "name": "stdout",
          "text": [
            "['Scientist' 'Teacher' 'Engineer' 'Entrepreneur' 'Developer' 'Lawyer'\n",
            " 'Media_Manager' 'Doctor' 'Journalist' 'Manager' 'Accountant' 'Musician'\n",
            " 'Mechanic' 'Writer' 'Architect']\n"
          ]
        }
      ]
    },
    {
      "cell_type": "code",
      "source": [
        "# Buat dataframe baru pada Credit_Mix yang tidak ada nilai '_'\n",
        "train = train[train['Credit_Mix'] != '_']\n",
        "\n",
        "# Cetak nilai unik pada kolom Credit_Mix\n",
        "print(train['Credit_Mix'].unique())"
      ],
      "metadata": {
        "colab": {
          "base_uri": "https://localhost:8080/"
        },
        "id": "aezk-A8H9JqY",
        "outputId": "21b14a75-1bf4-405b-96c5-4f259fb24558"
      },
      "execution_count": 94,
      "outputs": [
        {
          "output_type": "stream",
          "name": "stdout",
          "text": [
            "['Good' 'Standard' 'Bad']\n"
          ]
        }
      ]
    },
    {
      "cell_type": "markdown",
      "source": [
        "1. train = train[train['Credit_Mix'] != '_']: Baris ini menghasilkan sebuah mask atau filter yang akan menghasilkan nilai True untuk setiap baris di mana nilai dalam kolom 'Credit_Mix' tidak sama dengan ''. Kemudian, baris-baris yang sesuai dengan kondisi ini diambil dari DataFrame train dengan menggunakan slicing, dan DataFrame tersebut diperbarui dengan baris-baru tersebut. Dengan kata lain, baris-baris di mana 'Credit_Mix' memiliki nilai '' (garis bawah) akan dihapus dari DataFrame train.\n",
        "2. print(train['Credit_Mix'].unique()): Setelah melakukan pemfilteran, baris-baris yang memiliki nilai '' (garis bawah) telah dihapus dari DataFrame train. Baris ini mencetak nilai unik yang tersisa dalam kolom 'Credit_Mix' setelah membersihkan data. Ini membantu dalam memverifikasi apakah perubahan yang dilakukan pada kolom 'Credit_Mix' berhasil menghilangkan nilai '' dari data dan hanya menyisakan nilai unik yang valid."
      ],
      "metadata": {
        "id": "GD5M4pxR9d0y"
      }
    },
    {
      "cell_type": "markdown",
      "source": [
        "Nilai Negativ"
      ],
      "metadata": {
        "id": "DkY7_3Jo-CA7"
      }
    },
    {
      "cell_type": "code",
      "source": [
        "# Seleksi kolom untuk filtering\n",
        "selected_columns = ['Delay_from_due_date', 'Changed_Credit_Limit', 'Num_Bank_Accounts']\n",
        "\n",
        "# Lakukan perulangan untuk selain kurang dari 0 dihapus dari dataframe\n",
        "for column in selected_columns:\n",
        "    train = train[train[column] >= 0]"
      ],
      "metadata": {
        "id": "Yakus4F99lPQ"
      },
      "execution_count": 95,
      "outputs": []
    },
    {
      "cell_type": "markdown",
      "source": [
        "1. selected_columns = ['Delay_from_due_date', 'Changed_Credit_Limit', 'Num_Bank_Accounts']: Baris ini mendefinisikan daftar selected_columns yang berisi nama-nama kolom yang ingin diproses. Kolom-kolom ini adalah 'Delay_from_due_date', 'Changed_Credit_Limit', dan 'Num_Bank_Accounts'.\n",
        "2. for column in selected_columns:: Baris ini memulai sebuah loop yang akan mengiterasi melalui setiap elemen dalam daftar selected_columns. Dalam setiap iterasi, nilai column akan merepresentasikan nama kolom yang sedang diproses.\n",
        "3. train = train[train[column] >= 0]: Baris ini bertujuan untuk membersihkan data dalam DataFrame train dari nilai yang tidak diinginkan dalam kolom-kolom yang dipilih. Di setiap iterasi, nilai-nilai yang lebih kecil dari 0 dalam kolom yang sedang diproses akan dihapus. Dengan menggunakan filter train[column] >= 0, kita menghasilkan sebuah mask atau filter yang akan menghasilkan nilai True untuk setiap baris di mana nilai dalam kolom yang sedang diproses lebih besar dari atau sama dengan 0. Kemudian, baris-baris yang sesuai dengan kondisi ini diambil dari DataFrame train dengan menggunakan slicing, dan DataFrame tersebut diperbarui dengan baris-baru tersebut. Dengan kata lain, baris-baris di mana nilai dalam kolom yang dipilih kurang dari 0 akan dihapus dari DataFrame train. Ini membantu memastikan bahwa hanya nilai yang non-negatif yang tetap ada dalam kolom-kolom yang dipilih."
      ],
      "metadata": {
        "id": "GW3cs0j9-inY"
      }
    },
    {
      "cell_type": "code",
      "source": [
        "# Drop daftar yang diinginkan\n",
        "columns_to_drop = ['ID', 'Customer_ID', 'Month', 'Name', 'SSN', 'Credit_History_Age','Monthly_Inhand_Salary', 'Type_of_Loan']\n",
        "\n",
        "# Drop columns tersebut\n",
        "train.drop(columns=columns_to_drop, inplace=True)\n"
      ],
      "metadata": {
        "id": "KlFNmb3d-3RQ"
      },
      "execution_count": 96,
      "outputs": []
    },
    {
      "cell_type": "markdown",
      "source": [
        "Nilai Missing Values"
      ],
      "metadata": {
        "id": "Lj7h5emi_PXe"
      }
    },
    {
      "cell_type": "code",
      "source": [
        "# Periksa total jumlah data yang kosong dalam dataframe\n",
        "total_missing_values = train.isnull().sum().sum()\n",
        "\n",
        "# Lakukan pengujian kondisional\n",
        "if total_missing_values == 0:\n",
        "    print(\"Tidak ada data yang kosong\")\n",
        "else:\n",
        "    print(\"Jumlah data yang kosong :\", total_missing_values)"
      ],
      "metadata": {
        "colab": {
          "base_uri": "https://localhost:8080/"
        },
        "id": "tTeTbu4I_Nj2",
        "outputId": "9ca0e45d-1f0e-4428-b587-8f93272992a6"
      },
      "execution_count": 97,
      "outputs": [
        {
          "output_type": "stream",
          "name": "stdout",
          "text": [
            "Tidak ada data yang kosong\n"
          ]
        }
      ]
    },
    {
      "cell_type": "markdown",
      "source": [
        "\n",
        "\n",
        "---\n",
        "\n",
        "\n",
        "# **Feature Engineering**\n",
        "\n",
        "\n",
        "---\n",
        "\n"
      ],
      "metadata": {
        "id": "h0GO0b1iAfu8"
      }
    },
    {
      "cell_type": "code",
      "source": [
        "# Identifikasi jenis-jenis tipe data dan dimasukkan kedalam numerik kolom\n",
        "numeric_columns = train.select_dtypes(include=['int64', 'float64']).columns\n",
        "\n",
        "# Jumlah kolom yang ingin ditampilkan\n",
        "num_columns = 8\n",
        "\n",
        "# Jumlah baris yang ditampilkan sesuai dengan jumlah kolom yang ditentukan\n",
        "num_rows = (len(numeric_columns) + num_columns - 1) // num_columns\n",
        "\n",
        "# Ukuran subplot\n",
        "fig, axes = plt.subplots(num_rows, num_columns, figsize=(16, 6))\n",
        "\n",
        "axes = axes.flatten()\n",
        "\n",
        "# Loop untuk membuat boxplot\n",
        "for i, column in enumerate(numeric_columns):\n",
        "    sns.boxplot(x=train[column], ax=axes[i])\n",
        "    axes[i].set_title(column, fontsize=7)\n",
        "    axes[i].set_xlabel('Value', fontsize=7)\n",
        "    axes[i].set_ylabel('Count', fontsize=7)\n",
        "\n",
        "# menyembunyikan subplot yang tidak digunakan\n",
        "for j in range(len(numeric_columns), num_columns*num_rows):\n",
        "    axes[j].axis('off')\n",
        "\n",
        "# Menata ulang letak plot\n",
        "plt.tight_layout()\n",
        "\n",
        "# Menampilkan Plot\n",
        "plt.show()"
      ],
      "metadata": {
        "colab": {
          "base_uri": "https://localhost:8080/",
          "height": 506
        },
        "id": "Nlakd6ZpApLJ",
        "outputId": "1d36d4d6-4157-47a5-eafb-2e4d594477a0"
      },
      "execution_count": 98,
      "outputs": [
        {
          "output_type": "display_data",
          "data": {
            "text/plain": [
              "<Figure size 1600x600 with 16 Axes>"
            ],
            "image/png": "[encoded data removed]"
          },
          "metadata": {}
        }
      ]
    },
    {
      "cell_type": "markdown",
      "source": [
        "membuat box plot untuk setiap kolom numerik dalam DataFrame train, dengan tujuan untuk memvisualisasikan distribusi dan mengetahui adanya outlier dalam setiap kolom numerik tersebut"
      ],
      "metadata": {
        "id": "aMc8ScPUBQOq"
      }
    },
    {
      "cell_type": "markdown",
      "source": [
        "**Scalling**"
      ],
      "metadata": {
        "id": "iIYofwHvGE6M"
      }
    },
    {
      "cell_type": "code",
      "source": [
        "# Convert kolom 'Age' ke tipe data numerik jika belum\n",
        "train['Age'] = pd.to_numeric(train['Age'], errors='coerce')\n",
        "\n",
        "# Tune scale pada tiap kolom\n",
        "train = train[train['Age'] < 60]\n",
        "train = train[train['Num_Credit_Card'] <= 10]\n",
        "train = train[train['Interest_Rate'] <= 50]\n",
        "train = train[train['Num_of_Loan'] <= 12]\n",
        "train = train[train['Num_Bank_Accounts'] <= 10]\n",
        "train = train[train['Delay_from_due_date'] <= 60]\n",
        "train = train[train['Changed_Credit_Limit'] <= 30]\n",
        "train = train[train['Num_Credit_Inquiries'] <= 12]\n",
        "train = train[train['Total_EMI_per_month'] <= 200]\n",
        "train = train[train['Outstanding_Debt'] <= 1500]\n"
      ],
      "metadata": {
        "id": "ba3HUHW6Bn12"
      },
      "execution_count": 99,
      "outputs": []
    },
    {
      "cell_type": "markdown",
      "source": [
        "Tujuan dari perintah-perintah ini adalah untuk menghilangkan outlier atau nilai-nilai ekstrim yang mungkin tidak representatif atau tidak realistis, sehingga memperbaiki kualitas dan konsistensi data sebelum dilakukan analisis lebih lanjut atau pemodelan."
      ],
      "metadata": {
        "id": "2dvm916LF3Mj"
      }
    },
    {
      "cell_type": "markdown",
      "source": [
        "**Encoding**"
      ],
      "metadata": {
        "id": "xltDNp9gF6TB"
      }
    },
    {
      "cell_type": "code",
      "source": [
        "#Label Encoder\n",
        "categories = ['Poor', 'Standard', 'Good']\n",
        "\n",
        "encoder = OrdinalEncoder(categories=[categories])\n",
        "\n",
        "train['Credit_Score_Encoded'] = encoder.fit_transform(train[['Credit_Score']])\n",
        "\n",
        "# Encoding Occupation\n",
        "label_encoder = LabelEncoder()\n",
        "train['Occupation_Encoded'] = label_encoder.fit_transform(train['Occupation'])\n",
        "\n",
        "#Ordinal Encoder\n",
        "categories = ['Bad', 'Standard', 'Good']\n",
        "\n",
        "encoder = OrdinalEncoder(categories=[categories])\n",
        "\n",
        "train['Credit_Mix_Encoded'] = encoder.fit_transform(train[['Credit_Mix']])\n",
        "\n",
        "categories_payment_behaviour = [\n",
        "    'Low_spent_Small_value_payments',\n",
        "    'Low_spent_Medium_value_payments',\n",
        "    'Low_spent_Large_value_payments',\n",
        "    'High_spent_Small_value_payments',\n",
        "    'High_spent_Medium_value_payments',\n",
        "    'High_spent_Large_value_payments'\n",
        "]\n",
        "\n",
        "encoder_payment_behaviour = OrdinalEncoder(categories=[categories_payment_behaviour])\n",
        "\n",
        "train['Payment_Behaviour_Encoded'] = encoder_payment_behaviour.fit_transform(train[['Payment_Behaviour']])\n",
        "\n",
        "\n",
        "#Dropping Unencoded Columns\n",
        "columns_to_drop = [ 'Payment_Behaviour', 'Credit_Mix', 'Occupation','Credit_Score']\n",
        "train.drop(columns=columns_to_drop, inplace=True)"
      ],
      "metadata": {
        "id": "B9vh3_MGF4Sn"
      },
      "execution_count": 100,
      "outputs": []
    },
    {
      "cell_type": "markdown",
      "source": [
        "Perintah-perintah tersebut memiliki tujuan untuk melakukan encoding terhadap beberapa kolom kategorikal dalam DataFrame train sehingga dapat digunakan dalam analisis atau pemodelan yang melibatkan algoritma pembelajaran mesin.\n",
        "\n",
        "1. Encoding kategori 'Credit_Score' menggunakan Ordinal Encoder:\n",
        "*   Kategori 'Poor', 'Standard', dan 'Good' dalam kolom 'Credit_Score' diubah menjadi nilai numerik menggunakan Ordinal Encoder dari library Scikit-learn. Ini memungkinkan representasi yang lebih mudah diproses oleh model.\n",
        "\n",
        "\n",
        "2. Encoding kolom 'Occupation' menggunakan Label Encoder:\n",
        "*   Nilai-nilai dalam kolom 'Occupation' diubah menjadi nilai numerik menggunakan Label Encoder dari Scikit-learn. Ini dilakukan untuk mengubah label teks menjadi nilai numerik sehingga dapat digunakan dalam analisis lebih lanjut.\n",
        "3. Encoding kategori 'Credit_Mix' menggunakan Ordinal Encoder:\n",
        "*   Kategori 'Bad', 'Standard', dan 'Good' dalam kolom 'Credit_Mix' diubah menjadi nilai numerik menggunakan Ordinal Encoder. Pendekatan ini mirip dengan encoding kategori 'Credit_Score'.\n",
        "4. Encoding kategori 'Payment_Behaviour' menggunakan Ordinal Encoder:\n",
        "*   Kategori yang berbeda dalam kolom 'Payment_Behaviour' diubah menjadi nilai numerik menggunakan Ordinal Encoder. Ini memungkinkan representasi ordinal yang konsisten untuk kategori-kategori dalam kolom tersebut.\n",
        "5. Menghapus kolom-kolom asli yang telah diencode:\n",
        "*   Setelah encoding selesai, kolom-kolom asli yang telah diencode, yaitu 'Payment_Behaviour', 'Credit_Mix', 'Occupation', dan 'Credit_Score', dihapus dari DataFrame train karena sudah tidak diperlukan lagi dalam bentuk aslinya setelah encoding dilakukan. Ini membantu mengurangi dimensi data dan mempersiapkannya untuk analisis atau pemodelan selanjutnya."
      ],
      "metadata": {
        "id": "n0lx4plqGSOQ"
      }
    },
    {
      "cell_type": "markdown",
      "source": [
        "**New Features**"
      ],
      "metadata": {
        "id": "WC0eqKFEHKk0"
      }
    },
    {
      "cell_type": "code",
      "source": [
        "# menghitung total jumlah (Bank Accounts + Credit Cards)\n",
        "train['Total_Num_Accounts'] = train['Num_Bank_Accounts'] + train['Num_Credit_Card']\n",
        "\n",
        "# menghitung total jumlah hutang per akun\n",
        "\n",
        "train['Debt_Per_Account'] = train['Outstanding_Debt'] / train['Total_Num_Accounts']\n",
        "\n",
        "# Menghitung perbandingan hutang dan pemasukan\n",
        "\n",
        "train['Debt_to_Income_Ratio'] = train['Outstanding_Debt'] / train['Annual_Income']\n",
        "\n",
        "# Menghitung total jumlah pembayaran yang telat per akun\n",
        "\n",
        "train['Delayed_Payments_Per_Account'] = train['Num_of_Delayed_Payment'] / train['Total_Num_Accounts']\n",
        "\n",
        "# Menghitung pengeluaran bulanan (EMI + Investasi bulanan)\n",
        "\n",
        "train['Total_Monthly_Expenses'] = train['Total_EMI_per_month'] + train['Amount_invested_monthly']\n",
        ""
      ],
      "metadata": {
        "id": "I6VveMyiHGOK"
      },
      "execution_count": 101,
      "outputs": []
    },
    {
      "cell_type": "markdown",
      "source": [
        "**Mutual Information Score (MI Score)**"
      ],
      "metadata": {
        "id": "FWf91HvXHkW3"
      }
    },
    {
      "cell_type": "code",
      "source": [
        "# Identifikasi kolom-kolom kategorikal dalam DataFrame 'train'\n",
        "categorical_columns = train.select_dtypes(include=['object']).columns\n",
        "\n",
        "# Buat salinan data 'train' untuk proses encoding\n",
        "data_encoded = train.copy()\n",
        "\n",
        "# Buat encoder Ordinal\n",
        "encoder = OrdinalEncoder()\n",
        "\n",
        "# Lakukan encoding pada kolom-kolom kategorikal menggunakan encoder Ordinal\n",
        "data_encoded[categorical_columns] = encoder.fit_transform(data_encoded[categorical_columns])\n",
        "\n",
        "# Pisahkan target (y) dan fitur-fitur (X) dari data yang telah diencode\n",
        "y = data_encoded['Credit_Score_Encoded']\n",
        "X = data_encoded.drop(columns=['Credit_Score_Encoded'])\n",
        "\n",
        "# Hitung skor informasi mutual antara setiap fitur dalam X dan target y\n",
        "mi_scores = mutual_info_classif(X, y)\n",
        "\n",
        "# Cetak skor informasi mutual untuk setiap fitur\n",
        "for i, score in enumerate(mi_scores):\n",
        "    print(f\"Feature '{X.columns[i]}': Mutual Information Score = {score}\")"
      ],
      "metadata": {
        "colab": {
          "base_uri": "https://localhost:8080/"
        },
        "id": "Q1eFMoHGHnFo",
        "outputId": "a5d35037-0493-4c77-e23d-39d8e4fb60df"
      },
      "execution_count": 102,
      "outputs": [
        {
          "output_type": "stream",
          "name": "stdout",
          "text": [
            "Feature 'Age': Mutual Information Score = 0.006435292370012835\n",
            "Feature 'Annual_Income': Mutual Information Score = 0.42764989547556254\n",
            "Feature 'Num_Bank_Accounts': Mutual Information Score = 0.05884401881645096\n",
            "Feature 'Num_Credit_Card': Mutual Information Score = 0.07182845192542153\n",
            "Feature 'Interest_Rate': Mutual Information Score = 0.1016424068235442\n",
            "Feature 'Num_of_Loan': Mutual Information Score = 0.021322003520307664\n",
            "Feature 'Delay_from_due_date': Mutual Information Score = 0.06373458236644214\n",
            "Feature 'Num_of_Delayed_Payment': Mutual Information Score = 0.05128409861966654\n",
            "Feature 'Changed_Credit_Limit': Mutual Information Score = 0.09977018534582527\n",
            "Feature 'Num_Credit_Inquiries': Mutual Information Score = 0.03168867647380025\n",
            "Feature 'Outstanding_Debt': Mutual Information Score = 0.4305911908845892\n",
            "Feature 'Credit_Utilization_Ratio': Mutual Information Score = 0.0008940600062685711\n",
            "Feature 'Payment_of_Min_Amount': Mutual Information Score = 0.07189804705042935\n",
            "Feature 'Total_EMI_per_month': Mutual Information Score = 0.3522930200448817\n",
            "Feature 'Amount_invested_monthly': Mutual Information Score = 0.0036051399411292095\n",
            "Feature 'Monthly_Balance': Mutual Information Score = 0.004716560145963333\n",
            "Feature 'Credit_History_Age_Months': Mutual Information Score = 0.023820886552462506\n",
            "Feature 'Occupation_Encoded': Mutual Information Score = 0.0\n",
            "Feature 'Credit_Mix_Encoded': Mutual Information Score = 0.18079889260316118\n",
            "Feature 'Payment_Behaviour_Encoded': Mutual Information Score = 0.006508715899723683\n",
            "Feature 'Total_Num_Accounts': Mutual Information Score = 0.0779939614514451\n",
            "Feature 'Debt_Per_Account': Mutual Information Score = 0.43162444231887\n",
            "Feature 'Debt_to_Income_Ratio': Mutual Information Score = 0.43343750820006033\n",
            "Feature 'Delayed_Payments_Per_Account': Mutual Information Score = 0.05292027980903957\n",
            "Feature 'Total_Monthly_Expenses': Mutual Information Score = 0.005199463253791503\n"
          ]
        }
      ]
    },
    {
      "cell_type": "code",
      "source": [
        "# Urutkan skor informasi mutual dan nama fitur secara terbalik\n",
        "sorted_mi_scores = sorted(zip(X.columns, mi_scores), key=lambda x: x[1], reverse=True)\n",
        "\n",
        "# Dapatkan nama fitur yang sudah diurutkan\n",
        "sorted_columns = [x[0] for x in sorted_mi_scores]\n",
        "\n",
        "# Dapatkan skor informasi mutual yang sudah diurutkan\n",
        "sorted_scores = [x[1] for x in sorted_mi_scores]\n",
        "\n",
        "# Skala warna yang digunakan untuk plot\n",
        "colorscale = 'Viridis'\n",
        "\n",
        "# Buat plot batang dengan menggunakan skor informasi mutual dan nama fitur\n",
        "fig = go.Figure(data=[go.Bar(x=sorted_columns, y=sorted_scores, marker=dict(color=sorted_scores, colorbar=dict(title='Skor Informasi Mutual', len=0.5, y=0.2)))])\n",
        "\n",
        "# Sesuaikan tata letak plot dan memberi judul pada sumbu-sumbunya\n",
        "fig.update_layout(title='Skor Informasi Mutual untuk Setiap Fitur',\n",
        "                  xaxis_title='Fitur',\n",
        "                  yaxis_title='Skor Informasi Mutual')\n",
        "\n",
        "# Menampilkan plot\n",
        "fig.show()"
      ],
      "metadata": {
        "colab": {
          "base_uri": "https://localhost:8080/",
          "height": 542
        },
        "id": "xAiiY8_iHtzS",
        "outputId": "3478214c-f242-4dc0-8f62-0fd35df7a48d"
      },
      "execution_count": 103,
      "outputs": [
        {
          "output_type": "display_data",
          "data": {
            "text/html": [
              "<html>\n",
              "<head><meta charset=\"utf-8\" /></head>\n",
              "<body>\n",
              "    <div>            <script src=\"https://cdnjs.cloudflare.com/ajax/libs/mathjax/2.7.5/MathJax.js?config=TeX-AMS-MML_SVG\"></script><script type=\"text/javascript\">if (window.MathJax && window.MathJax.Hub && window.MathJax.Hub.Config) {window.MathJax.Hub.Config({SVG: {font: \"STIX-Web\"}});}</script>                <script type=\"text/javascript\">window.PlotlyConfig = {MathJaxConfig: 'local'};</script>\n",
              "        <script charset=\"utf-8\" src=\"https://cdn.plot.ly/plotly-2.24.1.min.js\"></script>                <div id=\"ce56e8e5-bc33-4340-8e18-7b30e3b8893e\" class=\"plotly-graph-div\" style=\"height:525px; width:100%;\"></div>            <script type=\"text/javascript\">                                    window.PLOTLYENV=window.PLOTLYENV || {};                                    if (document.getElementById(\"ce56e8e5-bc33-4340-8e18-7b30e3b8893e\")) {                    Plotly.newPlot(                        \"ce56e8e5-bc33-4340-8e18-7b30e3b8893e\",                        [{\"marker\":{\"color\":[0.43343750820006033,0.43162444231887,0.4305911908845892,0.42764989547556254,0.3522930200448817,0.18079889260316118,0.1016424068235442,0.09977018534582527,0.0779939614514451,0.07189804705042935,0.07182845192542153,0.06373458236644214,0.05884401881645096,0.05292027980903957,0.05128409861966654,0.03168867647380025,0.023820886552462506,0.021322003520307664,0.006508715899723683,0.006435292370012835,0.005199463253791503,0.004716560145963333,0.0036051399411292095,0.0008940600062685711,0.0],\"colorbar\":{\"len\":0.5,\"title\":{\"text\":\"Skor Informasi Mutual\"},\"y\":0.2}},\"x\":[\"Debt_to_Income_Ratio\",\"Debt_Per_Account\",\"Outstanding_Debt\",\"Annual_Income\",\"Total_EMI_per_month\",\"Credit_Mix_Encoded\",\"Interest_Rate\",\"Changed_Credit_Limit\",\"Total_Num_Accounts\",\"Payment_of_Min_Amount\",\"Num_Credit_Card\",\"Delay_from_due_date\",\"Num_Bank_Accounts\",\"Delayed_Payments_Per_Account\",\"Num_of_Delayed_Payment\",\"Num_Credit_Inquiries\",\"Credit_History_Age_Months\",\"Num_of_Loan\",\"Payment_Behaviour_Encoded\",\"Age\",\"Total_Monthly_Expenses\",\"Monthly_Balance\",\"Amount_invested_monthly\",\"Credit_Utilization_Ratio\",\"Occupation_Encoded\"],\"y\":[0.43343750820006033,0.43162444231887,0.4305911908845892,0.42764989547556254,0.3522930200448817,0.18079889260316118,0.1016424068235442,0.09977018534582527,0.0779939614514451,0.07189804705042935,0.07182845192542153,0.06373458236644214,0.05884401881645096,0.05292027980903957,0.05128409861966654,0.03168867647380025,0.023820886552462506,0.021322003520307664,0.006508715899723683,0.006435292370012835,0.005199463253791503,0.004716560145963333,0.0036051399411292095,0.0008940600062685711,0.0],\"type\":\"bar\"}],                        {\"template\":{\"data\":{\"histogram2dcontour\":[{\"type\":\"histogram2dcontour\",\"colorbar\":{\"outlinewidth\":0,\"ticks\":\"\"},\"colorscale\":[[0.0,\"#0d0887\"],[0.1111111111111111,\"#46039f\"],[0.2222222222222222,\"#7201a8\"],[0.3333333333333333,\"#9c179e\"],[0.4444444444444444,\"#bd3786\"],[0.5555555555555556,\"#d8576b\"],[0.6666666666666666,\"#ed7953\"],[0.7777777777777778,\"#fb9f3a\"],[0.8888888888888888,\"#fdca26\"],[1.0,\"#f0f921\"]]}],\"choropleth\":[{\"type\":\"choropleth\",\"colorbar\":{\"outlinewidth\":0,\"ticks\":\"\"}}],\"histogram2d\":[{\"type\":\"histogram2d\",\"colorbar\":{\"outlinewidth\":0,\"ticks\":\"\"},\"colorscale\":[[0.0,\"#0d0887\"],[0.1111111111111111,\"#46039f\"],[0.2222222222222222,\"#7201a8\"],[0.3333333333333333,\"#9c179e\"],[0.4444444444444444,\"#bd3786\"],[0.5555555555555556,\"#d8576b\"],[0.6666666666666666,\"#ed7953\"],[0.7777777777777778,\"#fb9f3a\"],[0.8888888888888888,\"#fdca26\"],[1.0,\"#f0f921\"]]}],\"heatmap\":[{\"type\":\"heatmap\",\"colorbar\":{\"outlinewidth\":0,\"ticks\":\"\"},\"colorscale\":[[0.0,\"#0d0887\"],[0.1111111111111111,\"#46039f\"],[0.2222222222222222,\"#7201a8\"],[0.3333333333333333,\"#9c179e\"],[0.4444444444444444,\"#bd3786\"],[0.5555555555555556,\"#d8576b\"],[0.6666666666666666,\"#ed7953\"],[0.7777777777777778,\"#fb9f3a\"],[0.8888888888888888,\"#fdca26\"],[1.0,\"#f0f921\"]]}],\"heatmapgl\":[{\"type\":\"heatmapgl\",\"colorbar\":{\"outlinewidth\":0,\"ticks\":\"\"},\"colorscale\":[[0.0,\"#0d0887\"],[0.1111111111111111,\"#46039f\"],[0.2222222222222222,\"#7201a8\"],[0.3333333333333333,\"#9c179e\"],[0.4444444444444444,\"#bd3786\"],[0.5555555555555556,\"#d8576b\"],[0.6666666666666666,\"#ed7953\"],[0.7777777777777778,\"#fb9f3a\"],[0.8888888888888888,\"#fdca26\"],[1.0,\"#f0f921\"]]}],\"contourcarpet\":[{\"type\":\"contourcarpet\",\"colorbar\":{\"outlinewidth\":0,\"ticks\":\"\"}}],\"contour\":[{\"type\":\"contour\",\"colorbar\":{\"outlinewidth\":0,\"ticks\":\"\"},\"colorscale\":[[0.0,\"#0d0887\"],[0.1111111111111111,\"#46039f\"],[0.2222222222222222,\"#7201a8\"],[0.3333333333333333,\"#9c179e\"],[0.4444444444444444,\"#bd3786\"],[0.5555555555555556,\"#d8576b\"],[0.6666666666666666,\"#ed7953\"],[0.7777777777777778,\"#fb9f3a\"],[0.8888888888888888,\"#fdca26\"],[1.0,\"#f0f921\"]]}],\"surface\":[{\"type\":\"surface\",\"colorbar\":{\"outlinewidth\":0,\"ticks\":\"\"},\"colorscale\":[[0.0,\"#0d0887\"],[0.1111111111111111,\"#46039f\"],[0.2222222222222222,\"#7201a8\"],[0.3333333333333333,\"#9c179e\"],[0.4444444444444444,\"#bd3786\"],[0.5555555555555556,\"#d8576b\"],[0.6666666666666666,\"#ed7953\"],[0.7777777777777778,\"#fb9f3a\"],[0.8888888888888888,\"#fdca26\"],[1.0,\"#f0f921\"]]}],\"mesh3d\":[{\"type\":\"mesh3d\",\"colorbar\":{\"outlinewidth\":0,\"ticks\":\"\"}}],\"scatter\":[{\"fillpattern\":{\"fillmode\":\"overlay\",\"size\":10,\"solidity\":0.2},\"type\":\"scatter\"}],\"parcoords\":[{\"type\":\"parcoords\",\"line\":{\"colorbar\":{\"outlinewidth\":0,\"ticks\":\"\"}}}],\"scatterpolargl\":[{\"type\":\"scatterpolargl\",\"marker\":{\"colorbar\":{\"outlinewidth\":0,\"ticks\":\"\"}}}],\"bar\":[{\"error_x\":{\"color\":\"#2a3f5f\"},\"error_y\":{\"color\":\"#2a3f5f\"},\"marker\":{\"line\":{\"color\":\"#E5ECF6\",\"width\":0.5},\"pattern\":{\"fillmode\":\"overlay\",\"size\":10,\"solidity\":0.2}},\"type\":\"bar\"}],\"scattergeo\":[{\"type\":\"scattergeo\",\"marker\":{\"colorbar\":{\"outlinewidth\":0,\"ticks\":\"\"}}}],\"scatterpolar\":[{\"type\":\"scatterpolar\",\"marker\":{\"colorbar\":{\"outlinewidth\":0,\"ticks\":\"\"}}}],\"histogram\":[{\"marker\":{\"pattern\":{\"fillmode\":\"overlay\",\"size\":10,\"solidity\":0.2}},\"type\":\"histogram\"}],\"scattergl\":[{\"type\":\"scattergl\",\"marker\":{\"colorbar\":{\"outlinewidth\":0,\"ticks\":\"\"}}}],\"scatter3d\":[{\"type\":\"scatter3d\",\"line\":{\"colorbar\":{\"outlinewidth\":0,\"ticks\":\"\"}},\"marker\":{\"colorbar\":{\"outlinewidth\":0,\"ticks\":\"\"}}}],\"scattermapbox\":[{\"type\":\"scattermapbox\",\"marker\":{\"colorbar\":{\"outlinewidth\":0,\"ticks\":\"\"}}}],\"scatterternary\":[{\"type\":\"scatterternary\",\"marker\":{\"colorbar\":{\"outlinewidth\":0,\"ticks\":\"\"}}}],\"scattercarpet\":[{\"type\":\"scattercarpet\",\"marker\":{\"colorbar\":{\"outlinewidth\":0,\"ticks\":\"\"}}}],\"carpet\":[{\"aaxis\":{\"endlinecolor\":\"#2a3f5f\",\"gridcolor\":\"white\",\"linecolor\":\"white\",\"minorgridcolor\":\"white\",\"startlinecolor\":\"#2a3f5f\"},\"baxis\":{\"endlinecolor\":\"#2a3f5f\",\"gridcolor\":\"white\",\"linecolor\":\"white\",\"minorgridcolor\":\"white\",\"startlinecolor\":\"#2a3f5f\"},\"type\":\"carpet\"}],\"table\":[{\"cells\":{\"fill\":{\"color\":\"#EBF0F8\"},\"line\":{\"color\":\"white\"}},\"header\":{\"fill\":{\"color\":\"#C8D4E3\"},\"line\":{\"color\":\"white\"}},\"type\":\"table\"}],\"barpolar\":[{\"marker\":{\"line\":{\"color\":\"#E5ECF6\",\"width\":0.5},\"pattern\":{\"fillmode\":\"overlay\",\"size\":10,\"solidity\":0.2}},\"type\":\"barpolar\"}],\"pie\":[{\"automargin\":true,\"type\":\"pie\"}]},\"layout\":{\"autotypenumbers\":\"strict\",\"colorway\":[\"#636efa\",\"#EF553B\",\"#00cc96\",\"#ab63fa\",\"#FFA15A\",\"#19d3f3\",\"#FF6692\",\"#B6E880\",\"#FF97FF\",\"#FECB52\"],\"font\":{\"color\":\"#2a3f5f\"},\"hovermode\":\"closest\",\"hoverlabel\":{\"align\":\"left\"},\"paper_bgcolor\":\"white\",\"plot_bgcolor\":\"#E5ECF6\",\"polar\":{\"bgcolor\":\"#E5ECF6\",\"angularaxis\":{\"gridcolor\":\"white\",\"linecolor\":\"white\",\"ticks\":\"\"},\"radialaxis\":{\"gridcolor\":\"white\",\"linecolor\":\"white\",\"ticks\":\"\"}},\"ternary\":{\"bgcolor\":\"#E5ECF6\",\"aaxis\":{\"gridcolor\":\"white\",\"linecolor\":\"white\",\"ticks\":\"\"},\"baxis\":{\"gridcolor\":\"white\",\"linecolor\":\"white\",\"ticks\":\"\"},\"caxis\":{\"gridcolor\":\"white\",\"linecolor\":\"white\",\"ticks\":\"\"}},\"coloraxis\":{\"colorbar\":{\"outlinewidth\":0,\"ticks\":\"\"}},\"colorscale\":{\"sequential\":[[0.0,\"#0d0887\"],[0.1111111111111111,\"#46039f\"],[0.2222222222222222,\"#7201a8\"],[0.3333333333333333,\"#9c179e\"],[0.4444444444444444,\"#bd3786\"],[0.5555555555555556,\"#d8576b\"],[0.6666666666666666,\"#ed7953\"],[0.7777777777777778,\"#fb9f3a\"],[0.8888888888888888,\"#fdca26\"],[1.0,\"#f0f921\"]],\"sequentialminus\":[[0.0,\"#0d0887\"],[0.1111111111111111,\"#46039f\"],[0.2222222222222222,\"#7201a8\"],[0.3333333333333333,\"#9c179e\"],[0.4444444444444444,\"#bd3786\"],[0.5555555555555556,\"#d8576b\"],[0.6666666666666666,\"#ed7953\"],[0.7777777777777778,\"#fb9f3a\"],[0.8888888888888888,\"#fdca26\"],[1.0,\"#f0f921\"]],\"diverging\":[[0,\"#8e0152\"],[0.1,\"#c51b7d\"],[0.2,\"#de77ae\"],[0.3,\"#f1b6da\"],[0.4,\"#fde0ef\"],[0.5,\"#f7f7f7\"],[0.6,\"#e6f5d0\"],[0.7,\"#b8e186\"],[0.8,\"#7fbc41\"],[0.9,\"#4d9221\"],[1,\"#276419\"]]},\"xaxis\":{\"gridcolor\":\"white\",\"linecolor\":\"white\",\"ticks\":\"\",\"title\":{\"standoff\":15},\"zerolinecolor\":\"white\",\"automargin\":true,\"zerolinewidth\":2},\"yaxis\":{\"gridcolor\":\"white\",\"linecolor\":\"white\",\"ticks\":\"\",\"title\":{\"standoff\":15},\"zerolinecolor\":\"white\",\"automargin\":true,\"zerolinewidth\":2},\"scene\":{\"xaxis\":{\"backgroundcolor\":\"#E5ECF6\",\"gridcolor\":\"white\",\"linecolor\":\"white\",\"showbackground\":true,\"ticks\":\"\",\"zerolinecolor\":\"white\",\"gridwidth\":2},\"yaxis\":{\"backgroundcolor\":\"#E5ECF6\",\"gridcolor\":\"white\",\"linecolor\":\"white\",\"showbackground\":true,\"ticks\":\"\",\"zerolinecolor\":\"white\",\"gridwidth\":2},\"zaxis\":{\"backgroundcolor\":\"#E5ECF6\",\"gridcolor\":\"white\",\"linecolor\":\"white\",\"showbackground\":true,\"ticks\":\"\",\"zerolinecolor\":\"white\",\"gridwidth\":2}},\"shapedefaults\":{\"line\":{\"color\":\"#2a3f5f\"}},\"annotationdefaults\":{\"arrowcolor\":\"#2a3f5f\",\"arrowhead\":0,\"arrowwidth\":1},\"geo\":{\"bgcolor\":\"white\",\"landcolor\":\"#E5ECF6\",\"subunitcolor\":\"white\",\"showland\":true,\"showlakes\":true,\"lakecolor\":\"white\"},\"title\":{\"x\":0.05},\"mapbox\":{\"style\":\"light\"}}},\"title\":{\"text\":\"Skor Informasi Mutual untuk Setiap Fitur\"},\"xaxis\":{\"title\":{\"text\":\"Fitur\"}},\"yaxis\":{\"title\":{\"text\":\"Skor Informasi Mutual\"}}},                        {\"responsive\": true}                    ).then(function(){\n",
              "                            \n",
              "var gd = document.getElementById('ce56e8e5-bc33-4340-8e18-7b30e3b8893e');\n",
              "var x = new MutationObserver(function (mutations, observer) {{\n",
              "        var display = window.getComputedStyle(gd).display;\n",
              "        if (!display || display === 'none') {{\n",
              "            console.log([gd, 'removed!']);\n",
              "            Plotly.purge(gd);\n",
              "            observer.disconnect();\n",
              "        }}\n",
              "}});\n",
              "\n",
              "// Listen for the removal of the full notebook cells\n",
              "var notebookContainer = gd.closest('#notebook-container');\n",
              "if (notebookContainer) {{\n",
              "    x.observe(notebookContainer, {childList: true});\n",
              "}}\n",
              "\n",
              "// Listen for the clearing of the current output cell\n",
              "var outputEl = gd.closest('.output');\n",
              "if (outputEl) {{\n",
              "    x.observe(outputEl, {childList: true});\n",
              "}}\n",
              "\n",
              "                        })                };                            </script>        </div>\n",
              "</body>\n",
              "</html>"
            ]
          },
          "metadata": {}
        }
      ]
    },
    {
      "cell_type": "markdown",
      "source": [
        "# **Model Machine Learning**"
      ],
      "metadata": {
        "id": "eQdoUbonHzZI"
      }
    },
    {
      "cell_type": "code",
      "source": [
        "# Siapkan dataframe untuk latih pada variabel y pada kolom Credit_Score_Encoded\n",
        "y = train['Credit_Score_Encoded']\n",
        "\n",
        "# Siapkan dataframe untuk latih pada variabel X pada kolom yang ditentukan dibawah\n",
        "X = train[['Annual_Income', 'Num_Bank_Accounts', 'Num_Credit_Card',\n",
        "       'Interest_Rate', 'Num_of_Loan', 'Delay_from_due_date',\n",
        "       'Num_of_Delayed_Payment', 'Changed_Credit_Limit',\n",
        "       'Num_Credit_Inquiries', 'Outstanding_Debt', 'Total_EMI_per_month',\n",
        "       'Credit_History_Age_Months', 'Total_Num_Accounts',\n",
        "       'Debt_Per_Account', 'Debt_to_Income_Ratio', 'Delayed_Payments_Per_Account']]\n",
        "\n",
        "# Bagi data menjadi data latih dan data uji\n",
        "X_train, X_test, y_train, y_test = train_test_split(X, y, test_size=0.2, random_state=77)"
      ],
      "metadata": {
        "id": "YYfWi-1xH4yt"
      },
      "execution_count": 104,
      "outputs": []
    },
    {
      "cell_type": "markdown",
      "source": [
        "# **Random Fores**"
      ],
      "metadata": {
        "id": "eDe1gS_8H9JF"
      }
    },
    {
      "cell_type": "code",
      "source": [
        "model = RandomForestRegressor(n_estimators=500, bootstrap=True, random_state=77)\n",
        "model.fit(X_train, y_train)"
      ],
      "metadata": {
        "colab": {
          "base_uri": "https://localhost:8080/",
          "height": 75
        },
        "id": "zo5g0GiiIBEZ",
        "outputId": "c3897783-2b8d-4b54-9b17-79b76b7999fd"
      },
      "execution_count": 105,
      "outputs": [
        {
          "output_type": "execute_result",
          "data": {
            "text/plain": [
              "RandomForestRegressor(n_estimators=500, random_state=77)"
            ],
            "text/html": [
              "<style>#sk-container-id-1 {color: black;background-color: white;}#sk-container-id-1 pre{padding: 0;}#sk-container-id-1 div.sk-toggleable {background-color: white;}#sk-container-id-1 label.sk-toggleable__label {cursor: pointer;display: block;width: 100%;margin-bottom: 0;padding: 0.3em;box-sizing: border-box;text-align: center;}#sk-container-id-1 label.sk-toggleable__label-arrow:before {content: \"▸\";float: left;margin-right: 0.25em;color: #696969;}#sk-container-id-1 label.sk-toggleable__label-arrow:hover:before {color: black;}#sk-container-id-1 div.sk-estimator:hover label.sk-toggleable__label-arrow:before {color: black;}#sk-container-id-1 div.sk-toggleable__content {max-height: 0;max-width: 0;overflow: hidden;text-align: left;background-color: #f0f8ff;}#sk-container-id-1 div.sk-toggleable__content pre {margin: 0.2em;color: black;border-radius: 0.25em;background-color: #f0f8ff;}#sk-container-id-1 input.sk-toggleable__control:checked~div.sk-toggleable__content {max-height: 200px;max-width: 100%;overflow: auto;}#sk-container-id-1 input.sk-toggleable__control:checked~label.sk-toggleable__label-arrow:before {content: \"▾\";}#sk-container-id-1 div.sk-estimator input.sk-toggleable__control:checked~label.sk-toggleable__label {background-color: #d4ebff;}#sk-container-id-1 div.sk-label input.sk-toggleable__control:checked~label.sk-toggleable__label {background-color: #d4ebff;}#sk-container-id-1 input.sk-hidden--visually {border: 0;clip: rect(1px 1px 1px 1px);clip: rect(1px, 1px, 1px, 1px);height: 1px;margin: -1px;overflow: hidden;padding: 0;position: absolute;width: 1px;}#sk-container-id-1 div.sk-estimator {font-family: monospace;background-color: #f0f8ff;border: 1px dotted black;border-radius: 0.25em;box-sizing: border-box;margin-bottom: 0.5em;}#sk-container-id-1 div.sk-estimator:hover {background-color: #d4ebff;}#sk-container-id-1 div.sk-parallel-item::after {content: \"\";width: 100%;border-bottom: 1px solid gray;flex-grow: 1;}#sk-container-id-1 div.sk-label:hover label.sk-toggleable__label {background-color: #d4ebff;}#sk-container-id-1 div.sk-serial::before {content: \"\";position: absolute;border-left: 1px solid gray;box-sizing: border-box;top: 0;bottom: 0;left: 50%;z-index: 0;}#sk-container-id-1 div.sk-serial {display: flex;flex-direction: column;align-items: center;background-color: white;padding-right: 0.2em;padding-left: 0.2em;position: relative;}#sk-container-id-1 div.sk-item {position: relative;z-index: 1;}#sk-container-id-1 div.sk-parallel {display: flex;align-items: stretch;justify-content: center;background-color: white;position: relative;}#sk-container-id-1 div.sk-item::before, #sk-container-id-1 div.sk-parallel-item::before {content: \"\";position: absolute;border-left: 1px solid gray;box-sizing: border-box;top: 0;bottom: 0;left: 50%;z-index: -1;}#sk-container-id-1 div.sk-parallel-item {display: flex;flex-direction: column;z-index: 1;position: relative;background-color: white;}#sk-container-id-1 div.sk-parallel-item:first-child::after {align-self: flex-end;width: 50%;}#sk-container-id-1 div.sk-parallel-item:last-child::after {align-self: flex-start;width: 50%;}#sk-container-id-1 div.sk-parallel-item:only-child::after {width: 0;}#sk-container-id-1 div.sk-dashed-wrapped {border: 1px dashed gray;margin: 0 0.4em 0.5em 0.4em;box-sizing: border-box;padding-bottom: 0.4em;background-color: white;}#sk-container-id-1 div.sk-label label {font-family: monospace;font-weight: bold;display: inline-block;line-height: 1.2em;}#sk-container-id-1 div.sk-label-container {text-align: center;}#sk-container-id-1 div.sk-container {/* jupyter's `normalize.less` sets `[hidden] { display: none; }` but bootstrap.min.css set `[hidden] { display: none !important; }` so we also need the `!important` here to be able to override the default hidden behavior on the sphinx rendered scikit-learn.org. See: https://github.com/scikit-learn/scikit-learn/issues/21755 */display: inline-block !important;position: relative;}#sk-container-id-1 div.sk-text-repr-fallback {display: none;}</style><div id=\"sk-container-id-1\" class=\"sk-top-container\"><div class=\"sk-text-repr-fallback\"><pre>RandomForestRegressor(n_estimators=500, random_state=77)</pre><b>In a Jupyter environment, please rerun this cell to show the HTML representation or trust the notebook. <br />On GitHub, the HTML representation is unable to render, please try loading this page with nbviewer.org.</b></div><div class=\"sk-container\" hidden><div class=\"sk-item\"><div class=\"sk-estimator sk-toggleable\"><input class=\"sk-toggleable__control sk-hidden--visually\" id=\"sk-estimator-id-1\" type=\"checkbox\" checked><label for=\"sk-estimator-id-1\" class=\"sk-toggleable__label sk-toggleable__label-arrow\">RandomForestRegressor</label><div class=\"sk-toggleable__content\"><pre>RandomForestRegressor(n_estimators=500, random_state=77)</pre></div></div></div></div></div>"
            ]
          },
          "metadata": {},
          "execution_count": 105
        }
      ]
    },
    {
      "cell_type": "markdown",
      "source": [
        "# **Evaluasi Model**"
      ],
      "metadata": {
        "id": "WEuorNuYIGoa"
      }
    },
    {
      "cell_type": "markdown",
      "source": [
        "**MSE**"
      ],
      "metadata": {
        "id": "YF_PijXtIOMy"
      }
    },
    {
      "cell_type": "code",
      "source": [
        "y_pred = model.predict(X_test)\n",
        "mse = mean_squared_error(y_test, y_pred)\n",
        "print(\"Mean Squared Error:\", mse)"
      ],
      "metadata": {
        "colab": {
          "base_uri": "https://localhost:8080/"
        },
        "id": "GITB1UNqILWN",
        "outputId": "7f469ada-2d67-4323-f2a6-ab9051bcf589"
      },
      "execution_count": 106,
      "outputs": [
        {
          "output_type": "stream",
          "name": "stdout",
          "text": [
            "Mean Squared Error: 0.170385667295898\n"
          ]
        }
      ]
    },
    {
      "cell_type": "markdown",
      "source": [
        "**Acurasi Test**"
      ],
      "metadata": {
        "id": "MU_RRNp2IV2U"
      }
    },
    {
      "cell_type": "code",
      "source": [
        "rf_classifier = RandomForestClassifier(n_estimators=500, bootstrap=True)\n",
        "rf_classifier.fit(X_train, y_train)"
      ],
      "metadata": {
        "colab": {
          "base_uri": "https://localhost:8080/",
          "height": 75
        },
        "id": "hwadHxCsIZoL",
        "outputId": "483d659d-3624-48e1-da85-60d44db56087"
      },
      "execution_count": 107,
      "outputs": [
        {
          "output_type": "execute_result",
          "data": {
            "text/plain": [
              "RandomForestClassifier(n_estimators=500)"
            ],
            "text/html": [
              "<style>#sk-container-id-2 {color: black;background-color: white;}#sk-container-id-2 pre{padding: 0;}#sk-container-id-2 div.sk-toggleable {background-color: white;}#sk-container-id-2 label.sk-toggleable__label {cursor: pointer;display: block;width: 100%;margin-bottom: 0;padding: 0.3em;box-sizing: border-box;text-align: center;}#sk-container-id-2 label.sk-toggleable__label-arrow:before {content: \"▸\";float: left;margin-right: 0.25em;color: #696969;}#sk-container-id-2 label.sk-toggleable__label-arrow:hover:before {color: black;}#sk-container-id-2 div.sk-estimator:hover label.sk-toggleable__label-arrow:before {color: black;}#sk-container-id-2 div.sk-toggleable__content {max-height: 0;max-width: 0;overflow: hidden;text-align: left;background-color: #f0f8ff;}#sk-container-id-2 div.sk-toggleable__content pre {margin: 0.2em;color: black;border-radius: 0.25em;background-color: #f0f8ff;}#sk-container-id-2 input.sk-toggleable__control:checked~div.sk-toggleable__content {max-height: 200px;max-width: 100%;overflow: auto;}#sk-container-id-2 input.sk-toggleable__control:checked~label.sk-toggleable__label-arrow:before {content: \"▾\";}#sk-container-id-2 div.sk-estimator input.sk-toggleable__control:checked~label.sk-toggleable__label {background-color: #d4ebff;}#sk-container-id-2 div.sk-label input.sk-toggleable__control:checked~label.sk-toggleable__label {background-color: #d4ebff;}#sk-container-id-2 input.sk-hidden--visually {border: 0;clip: rect(1px 1px 1px 1px);clip: rect(1px, 1px, 1px, 1px);height: 1px;margin: -1px;overflow: hidden;padding: 0;position: absolute;width: 1px;}#sk-container-id-2 div.sk-estimator {font-family: monospace;background-color: #f0f8ff;border: 1px dotted black;border-radius: 0.25em;box-sizing: border-box;margin-bottom: 0.5em;}#sk-container-id-2 div.sk-estimator:hover {background-color: #d4ebff;}#sk-container-id-2 div.sk-parallel-item::after {content: \"\";width: 100%;border-bottom: 1px solid gray;flex-grow: 1;}#sk-container-id-2 div.sk-label:hover label.sk-toggleable__label {background-color: #d4ebff;}#sk-container-id-2 div.sk-serial::before {content: \"\";position: absolute;border-left: 1px solid gray;box-sizing: border-box;top: 0;bottom: 0;left: 50%;z-index: 0;}#sk-container-id-2 div.sk-serial {display: flex;flex-direction: column;align-items: center;background-color: white;padding-right: 0.2em;padding-left: 0.2em;position: relative;}#sk-container-id-2 div.sk-item {position: relative;z-index: 1;}#sk-container-id-2 div.sk-parallel {display: flex;align-items: stretch;justify-content: center;background-color: white;position: relative;}#sk-container-id-2 div.sk-item::before, #sk-container-id-2 div.sk-parallel-item::before {content: \"\";position: absolute;border-left: 1px solid gray;box-sizing: border-box;top: 0;bottom: 0;left: 50%;z-index: -1;}#sk-container-id-2 div.sk-parallel-item {display: flex;flex-direction: column;z-index: 1;position: relative;background-color: white;}#sk-container-id-2 div.sk-parallel-item:first-child::after {align-self: flex-end;width: 50%;}#sk-container-id-2 div.sk-parallel-item:last-child::after {align-self: flex-start;width: 50%;}#sk-container-id-2 div.sk-parallel-item:only-child::after {width: 0;}#sk-container-id-2 div.sk-dashed-wrapped {border: 1px dashed gray;margin: 0 0.4em 0.5em 0.4em;box-sizing: border-box;padding-bottom: 0.4em;background-color: white;}#sk-container-id-2 div.sk-label label {font-family: monospace;font-weight: bold;display: inline-block;line-height: 1.2em;}#sk-container-id-2 div.sk-label-container {text-align: center;}#sk-container-id-2 div.sk-container {/* jupyter's `normalize.less` sets `[hidden] { display: none; }` but bootstrap.min.css set `[hidden] { display: none !important; }` so we also need the `!important` here to be able to override the default hidden behavior on the sphinx rendered scikit-learn.org. See: https://github.com/scikit-learn/scikit-learn/issues/21755 */display: inline-block !important;position: relative;}#sk-container-id-2 div.sk-text-repr-fallback {display: none;}</style><div id=\"sk-container-id-2\" class=\"sk-top-container\"><div class=\"sk-text-repr-fallback\"><pre>RandomForestClassifier(n_estimators=500)</pre><b>In a Jupyter environment, please rerun this cell to show the HTML representation or trust the notebook. <br />On GitHub, the HTML representation is unable to render, please try loading this page with nbviewer.org.</b></div><div class=\"sk-container\" hidden><div class=\"sk-item\"><div class=\"sk-estimator sk-toggleable\"><input class=\"sk-toggleable__control sk-hidden--visually\" id=\"sk-estimator-id-2\" type=\"checkbox\" checked><label for=\"sk-estimator-id-2\" class=\"sk-toggleable__label sk-toggleable__label-arrow\">RandomForestClassifier</label><div class=\"sk-toggleable__content\"><pre>RandomForestClassifier(n_estimators=500)</pre></div></div></div></div></div>"
            ]
          },
          "metadata": {},
          "execution_count": 107
        }
      ]
    },
    {
      "cell_type": "code",
      "source": [
        "y_pred = rf_classifier.predict(X_test)\n",
        "\n",
        "accuracy = accuracy_score(y_test, y_pred)\n",
        "print(\"Accuracy on original test set:\", accuracy)\n",
        "\n",
        "matrix = confusion_matrix(y_test, y_pred)\n",
        "plt.figure(figsize=(6, 6))\n",
        "sns.heatmap(matrix, annot=True, cbar=False, cmap='twilight', linewidth=0.5, fmt=\"d\")\n",
        "plt.ylabel('True Label')\n",
        "plt.xlabel('Predicted Label')\n",
        "plt.title('Confusion Matrix for RandomForestClassifier on original test set')\n",
        "\n",
        "print('\\nClassification report for original test set:\\n', classification_report(y_test, y_pred))"
      ],
      "metadata": {
        "colab": {
          "base_uri": "https://localhost:8080/",
          "height": 796
        },
        "id": "gB4eed0jIc67",
        "outputId": "4d1a7bab-fe8c-475c-8ca6-643762952bea"
      },
      "execution_count": 108,
      "outputs": [
        {
          "output_type": "stream",
          "name": "stdout",
          "text": [
            "Accuracy on original test set: 0.7957267724182583\n",
            "\n",
            "Classification report for original test set:\n",
            "               precision    recall  f1-score   support\n",
            "\n",
            "         0.0       0.76      0.63      0.69       901\n",
            "         1.0       0.81      0.88      0.84      3810\n",
            "         2.0       0.77      0.69      0.73      1467\n",
            "\n",
            "    accuracy                           0.80      6178\n",
            "   macro avg       0.78      0.73      0.75      6178\n",
            "weighted avg       0.79      0.80      0.79      6178\n",
            "\n"
          ]
        },
        {
          "output_type": "display_data",
          "data": {
            "text/plain": [
              "<Figure size 600x600 with 1 Axes>"
            ],
            "image/png": "[encoded data removed]"
          },
          "metadata": {}
        }
      ]
    }
  ]
}