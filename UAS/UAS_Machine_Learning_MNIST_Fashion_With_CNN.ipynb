{
  "nbformat": 4,
  "nbformat_minor": 0,
  "metadata": {
    "colab": {
      "provenance": []
    },
    "kernelspec": {
      "name": "python3",
      "display_name": "Python 3"
    },
    "language_info": {
      "name": "python"
    }
  },
  "cells": [
    {
      "cell_type": "code",
      "source": [
        "#Taufik Kurahman Sasmita\n",
        "#1103200008\n",
        "#Uas Machine Learning MNIST Fashion With CNN"
      ],
      "metadata": {
        "id": "ZEz2M5LQwViE"
      },
      "execution_count": null,
      "outputs": []
    },
    {
      "cell_type": "code",
      "execution_count": 1,
      "metadata": {
        "colab": {
          "base_uri": "https://localhost:8080/"
        },
        "id": "tVW7c28Gpjwv",
        "outputId": "27af8e3a-f92c-4808-89fa-edf71c7a7326"
      },
      "outputs": [
        {
          "output_type": "stream",
          "name": "stdout",
          "text": [
            "Downloading data from https://storage.googleapis.com/tensorflow/tf-keras-datasets/train-labels-idx1-ubyte.gz\n",
            "29515/29515 [==============================] - 0s 0us/step\n",
            "Downloading data from https://storage.googleapis.com/tensorflow/tf-keras-datasets/train-images-idx3-ubyte.gz\n",
            "26421880/26421880 [==============================] - 0s 0us/step\n",
            "Downloading data from https://storage.googleapis.com/tensorflow/tf-keras-datasets/t10k-labels-idx1-ubyte.gz\n",
            "5148/5148 [==============================] - 0s 0us/step\n",
            "Downloading data from https://storage.googleapis.com/tensorflow/tf-keras-datasets/t10k-images-idx3-ubyte.gz\n",
            "4422102/4422102 [==============================] - 0s 0us/step\n"
          ]
        }
      ],
      "source": [
        "# mengimpor library tensorflow dengan alias tf.\n",
        "import tensorflow as tf\n",
        "# menetapkan dataset Fashion MNIST ke variabel mnist dengan mengakses fashion_mnist dari modul tf.keras.datasets.\n",
        "mnist = tf.keras.datasets.fashion_mnist\n",
        "# Memuat dataset Fashion MNIST dan membaginya menjadi set pelatihan dan set pengujian\n",
        "(training_images, training_labels), (test_images, test_labels) = mnist.load_data()"
      ]
    },
    {
      "cell_type": "markdown",
      "source": [
        "Secara keseluruhan, kode ini melakukan hal-hal berikut:\n",
        "\n",
        "1. Mengimpor library TensorFlow.\n",
        "2. Mengakses dataset Fashion MNIST dari modul tf.keras.datasets.\n",
        "3. Memuat dataset tersebut dan membaginya menjadi set pelatihan dan set pengujian.\n",
        "\n",
        "Fashion MNIST adalah dataset yang terdiri dari gambar-gambar grayscale berukuran 28x28 piksel dari 10 kategori pakaian yang berbeda, seperti sepatu, tas, kemeja, dll. Dataset ini sering digunakan sebagai pengganti dataset MNIST yang berisi angka tulisan tangan untuk tugas-tugas pembelajaran mesin, karena lebih kompleks dan lebih menantang."
      ],
      "metadata": {
        "id": "s1wLUTNLqYxc"
      }
    },
    {
      "cell_type": "code",
      "source": [
        "# Mencetak bentuk (shape) dari training_images, training_labels, test_images, dan test_labels\n",
        "print('X_train: ' + str(training_images.shape))\n",
        "print('Y_train: ' + str(training_labels.shape))\n",
        "print('X_test: ' + str(test_images.shape))\n",
        "print('Y_test: ' + str(test_labels.shape))"
      ],
      "metadata": {
        "colab": {
          "base_uri": "https://localhost:8080/"
        },
        "id": "BxFosnX-prHk",
        "outputId": "32b56b28-85b5-4588-ed27-a74c9caba087"
      },
      "execution_count": 2,
      "outputs": [
        {
          "output_type": "stream",
          "name": "stdout",
          "text": [
            "X_train: (60000, 28, 28)\n",
            "Y_train: (60000,)\n",
            "X_test: (10000, 28, 28)\n",
            "Y_test: (10000,)\n"
          ]
        }
      ]
    },
    {
      "cell_type": "markdown",
      "source": [
        "##**Penjelasan**\n",
        "\n",
        "1. print('X_train: ' + str(training_images.shape))\n",
        "\n",
        "* Mencetak dimensi dari training_images, yaitu kumpulan gambar untuk set pelatihan.\n",
        "* training_images.shape memberikan informasi tentang bentuk array training_images. Dalam kasus Fashion MNIST, ini biasanya (60000, 28, 28), yang berarti terdapat 60.000 gambar, masing-masing berukuran 28x28 piksel.\n",
        "* Output akan berupa sesuatu seperti: X_train: (60000, 28, 28).\n",
        "\n",
        "2. print('Y_train: ' + str(training_labels.shape))\n",
        "\n",
        "* Mencetak dimensi dari training_labels, yaitu kumpulan label untuk set pelatihan.\n",
        "* training_labels.shape memberikan informasi tentang bentuk array training_labels. Ini biasanya (60000,), yang berarti ada 60.000 label, satu untuk setiap gambar dalam training_images.\n",
        "* Output akan berupa sesuatu seperti: Y_train: (60000).\n",
        "\n",
        "3. print('X_test: ' + str(test_images.shape))\n",
        "\n",
        "* Mencetak dimensi dari test_images, yaitu kumpulan gambar untuk set pengujian.\n",
        "* test_images.shape memberikan informasi tentang bentuk array test_images. Dalam kasus Fashion MNIST, ini biasanya (10000, 28, 28), yang berarti terdapat 10.000 gambar, masing-masing berukuran 28x28 piksel.\n",
        "* Output akan berupa sesuatu seperti: X_test: (10000, 28, 28).\n",
        "\n",
        "4. print('Y_test: ' + str(test_labels.shape))\n",
        "\n",
        "* Mencetak dimensi dari test_labels, yaitu kumpulan label untuk set pengujian.\n",
        "* test_labels.shape memberikan informasi tentang bentuk array test_labels. Ini biasanya (10000,), yang berarti ada 10.000 label, satu untuk setiap gambar dalam test_images.\n",
        "* Output akan berupa sesuatu seperti: Y_test: (10000).\n",
        "\n",
        "Secara keseluruhan, kode ini digunakan untuk memverifikasi bahwa dataset telah dimuat dengan benar dan untuk memahami struktur data yang akan digunakan dalam model pembelajaran mesin."
      ],
      "metadata": {
        "id": "s2BLjgnprCND"
      }
    },
    {
      "cell_type": "code",
      "source": [
        "# Mengambil 100 data pertama dari set pelatihan dan set pengujian\n",
        "training_images = training_images[:100]\n",
        "training_labels = training_labels[:100]\n",
        "\n",
        "test_images = test_images[:100]\n",
        "test_labels = test_labels[:100]"
      ],
      "metadata": {
        "id": "f2te8ffNpvS_"
      },
      "execution_count": 3,
      "outputs": []
    },
    {
      "cell_type": "markdown",
      "source": [
        "##**Penjelasan**\n",
        "\n",
        "1. training_images = training_images[:100]\n",
        "\n",
        "* Mengambil 100 gambar pertama dari set pelatihan training_images.\n",
        "* training_images[:100] berarti mengambil elemen dari indeks 0 sampai 99 (100 elemen pertama).\n",
        "* Hasilnya, training_images sekarang hanya mengandung 100 gambar pertama dari dataset aslinya.\n",
        "\n",
        "2. training_labels = training_labels[:100]\n",
        "\n",
        "* Mengambil 100 label pertama yang sesuai dengan 100 gambar pertama dari set pelatihan training_labels.\n",
        "* training_labels[:100] berarti mengambil elemen dari indeks 0 sampai 99 (100 elemen pertama).\n",
        "* Hasilnya, training_labels sekarang hanya mengandung 100 label pertama yang sesuai dengan gambar di training_images.\n",
        "\n",
        "3. test_images = test_images[:100]\n",
        "\n",
        "* Mengambil 100 gambar pertama dari set pengujian test_images.\n",
        "* test_images[:100] berarti mengambil elemen dari indeks 0 sampai 99 (100 elemen pertama).\n",
        "* Hasilnya, test_images sekarang hanya mengandung 100 gambar pertama dari dataset aslinya.\n",
        "\n",
        "4. test_labels = test_labels[:100]\n",
        "\n",
        "* Mengambil 100 label pertama yang sesuai dengan 100 gambar pertama dari set pengujian test_labels.\n",
        "* test_labels[:100] berarti mengambil elemen dari indeks 0 sampai 99 (100 elemen pertama).\n",
        "* Hasilnya, test_labels sekarang hanya mengandung 100 label pertama yang sesuai dengan gambar di test_images.\n",
        "\n",
        "Tujuan dari subset ini biasanya untuk mempercepat proses pelatihan dan pengujian model selama tahap pengembangan dan pengujian awal, karena bekerja dengan dataset yang lebih kecil memerlukan lebih sedikit waktu dan sumber daya komputasi. Setelah model bekerja dengan baik pada subset kecil, dapat diperluas untuk menggunakan dataset penuh."
      ],
      "metadata": {
        "id": "R26E482osBGG"
      }
    },
    {
      "cell_type": "code",
      "source": [
        "# Mengimpor library numpy dan mengatur opsi tampilan\n",
        "import numpy as np\n",
        "np.set_printoptions(linewidth=200)\n",
        "import matplotlib.pyplot as plt\n",
        "idx_data = 80 # Ganti sesuai indeks yang kita inginkan\n",
        "plt.imshow(training_images[idx_data])\n",
        "print(training_labels[idx_data])\n",
        "print(training_images[idx_data])"
      ],
      "metadata": {
        "colab": {
          "base_uri": "https://localhost:8080/",
          "height": 948
        },
        "id": "oCeXj6J9pypk",
        "outputId": "8d61e8ee-42f9-486f-eb74-468ce3189100"
      },
      "execution_count": 4,
      "outputs": [
        {
          "output_type": "stream",
          "name": "stdout",
          "text": [
            "1\n",
            "[[  0   0   0   0   0   0   0   0   0   0 175 119 114  86  89  99 109 132   0   0   0   0   0   0   0   0   0   0]\n",
            " [  0   0   0   0   0   0   0   0   0  92 255 254 255 255 255 255 250 255  19   0   0   0   0   0   0   0   0   0]\n",
            " [  0   0   0   0   0   0   0   0   0 211 234 210 219 220 215 210 206 255 119   0   0   0   0   0   0   0   0   0]\n",
            " [  0   0   0   0   0   0   0   0   0 255 231 224 226 225 223 222 215 237 204   0   0   0   0   0   0   0   0   0]\n",
            " [  0   0   0   0   0   0   0   0  50 255 221 228 227 227 224 224 222 221 251   0   0   0   0   0   0   0   0   0]\n",
            " [  0   0   0   0   0   0   0   0 135 255 221 229 229 228 226 228 226 218 255  78   0   0   0   0   0   0   0   0]\n",
            " [  0   0   0   0   0   0   0   0 180 245 222 227 228 228 227 225 224 220 252 106   0   0   0   0   0   0   0   0]\n",
            " [  0   0   0   0   0   0   0   0 204 232 221 224 225 226 226 224 224 217 247 124   0   0   0   0   0   0   0   0]\n",
            " [  0   0   0   0   0   0   0   0 208 233 222 226 225 231 231 226 225 221 244 138   0   0   0   0   0   0   0   0]\n",
            " [  0   0   0   0   0   0   0   0 203 234 224 226 224 224 237 228 224 219 244 149   0   0   0   0   0   0   0   0]\n",
            " [  0   0   0   0   0   0   0   0 188 248 222 223 236 191 215 238 223 219 243 151   0   0   0   0   0   0   0   0]\n",
            " [  0   0   0   0   0   0   0   0 115 255 221 221 250 161 186 252 220 217 255 113   0   0   0   0   0   0   0   0]\n",
            " [  0   0   0   0   0   0   0   0  17 255 225 219 255 105 131 255 213 221 255  46   0   0   0   0   0   0   0   0]\n",
            " [  0   0   0   0   0   0   0   0   0 240 231 214 255  69  76 255 214 228 250   0   0   0   0   0   0   0   0   0]\n",
            " [  0   0   0   0   0   0   0   0   0 186 238 218 255  26  34 255 219 229 200   0   0   0   0   0   0   0   0   0]\n",
            " [  0   0   0   0   0   0   0   0   0 128 243 218 255  11  24 255 222 232 141   0   0   0   0   0   0   0   0   0]\n",
            " [  0   0   0   0   0   0   0   0   0 111 244 219 255   5  15 255 221 237 119   0   0   0   0   0   0   0   0   0]\n",
            " [  0   0   0   0   0   0   0   0   0 114 243 222 255   0   0 255 225 238 124   0   0   0   0   0   0   0   0   0]\n",
            " [  0   0   0   0   0   0   0   0   0 151 241 228 232   0   0 238 232 235 153   0   0   0   0   0   0   0   0   0]\n",
            " [  0   0   0   0   0   0   0   0   0 203 235 235 192   0   0 201 236 234 187   0   0   0   0   0   0   0   0   0]\n",
            " [  0   0   0   0   0   0   0   0   0 217 232 240 147   0   0 177 241 231 202   0   0   0   0   0   0   0   0   0]\n",
            " [  0   0   0   0   0   0   0   0   0 227 233 239 124   0   0 158 243 232 205   0   0   0   0   0   0   0   0   0]\n",
            " [  0   0   0   0   0   0   0   0   0 221 233 238  64   0   0 120 243 235 197   0   0   0   0   0   0   0   0   0]\n",
            " [  0   0   0   0   0   0   0   0   0 202 240 221   0   0   0  38 237 239 158   0   0   0   0   0   0   0   0   0]\n",
            " [  0   0   0   0   0   0   0   0   0 184 246 192   0   0   0  18 230 240 120   0   0   0   0   0   0   0   0   0]\n",
            " [  0   0   0   0   0   0   0   0   0 177 248 172   0   0   0   0 220 239 124   0   0   0   0   0   0   0   0   0]\n",
            " [  0   0   0   0   0   0   0   0  30 194 245 179   0   2   0   0 209 245 227  43   0   0   0   0   0   0   0   0]\n",
            " [  0   0   0   0   0   0   0   0   0  40  16   2   0   0   0   0  21  35  29   9   0   0   0   0   0   0   0   0]]\n"
          ]
        },
        {
          "output_type": "display_data",
          "data": {
            "text/plain": [
              "<Figure size 640x480 with 1 Axes>"
            ],
            "image/png": "[encoded data removed]"
          },
          "metadata": {}
        }
      ]
    },
    {
      "cell_type": "markdown",
      "source": [
        "* idx_data = 80: Menetapkan nilai 80 ke variabel idx_data. Ini adalah indeks dari gambar yang ingin kita lihat dari dataset pelatihan.\n",
        "* plt.imshow(training_images[idx_data]): Menampilkan gambar dari training_images pada indeks yang ditentukan (idx_data) menggunakan Matplotlib. Gambar akan ditampilkan dalam bentuk grafis.\n",
        "* print(training_labels[idx_data]): Mencetak label yang sesuai dengan gambar pada indeks idx_data. Label ini menunjukkan kategori pakaian dari gambar tersebut.\n",
        "* print(training_images[idx_data]): Mencetak nilai piksel dari gambar pada indeks idx_data. Ini akan menampilkan array 2D yang mewakili intensitas piksel dari gambar tersebut.\n",
        "\n",
        "Secara keseluruhan, kode ini bertujuan untuk:\n",
        "\n",
        "* Mengimpor library yang diperlukan.\n",
        "* Mengatur opsi tampilan untuk array numpy.\n",
        "* Menampilkan salah satu gambar dari dataset pelatihan.\n",
        "* Mencetak label dan nilai piksel dari gambar tersebut.\n",
        "\n",
        "Ini membantu dalam memvisualisasikan data dan memverifikasi bahwa data telah dimuat dan diproses dengan benar."
      ],
      "metadata": {
        "id": "ade0DP6ts0Bf"
      }
    },
    {
      "cell_type": "markdown",
      "source": [
        "###**Model CNN**"
      ],
      "metadata": {
        "id": "raPyHAO9tNJm"
      }
    },
    {
      "cell_type": "code",
      "source": [
        "# Membuat grafik akurasi pelatihan dan validasi dari riwayat pelatihan model menggunakan TensorFlow dan Keras\n",
        "import tensorflow as tf\n",
        "from tensorflow.keras.models import Sequential\n",
        "from tensorflow.keras.layers import Conv2D, MaxPooling2D, Flatten, Dense\n",
        "import matplotlib.pyplot as plt\n",
        "\n",
        "# Load dataset\n",
        "mnist = tf.keras.datasets.fashion_mnist\n",
        "(training_images, training_labels), (test_images, test_labels) = mnist.load_data()\n",
        "\n",
        "# Preprocess dataset\n",
        "training_images = training_images.reshape((training_images.shape[0], 28, 28, 1)) / 255.0\n",
        "test_images = test_images.reshape((test_images.shape[0], 28, 28, 1)) / 255.0\n",
        "\n",
        "# Define model\n",
        "model = Sequential([\n",
        "    Conv2D(32, (3, 3), activation='relu', input_shape=(28, 28, 1)),  # Convolutional layer dengan 32 filter 3x3 dan ReLU activation\n",
        "    MaxPooling2D((2, 2)),  # Max pooling layer dengan filter 2x2\n",
        "    Conv2D(64, (3, 3), activation='relu'),  # Convolutional layer dengan 64 filter 3x3 dan ReLU activation\n",
        "    MaxPooling2D((2, 2)),  # Max pooling layer dengan filter 2x2\n",
        "    Flatten(),  # Meratakan output dari lapisan sebelumnya menjadi vektor\n",
        "    Dense(128, activation='relu'),  # Fully connected layer dengan 128 unit dan ReLU activation\n",
        "    Dense(10, activation='softmax')  # Output layer dengan 10 unit untuk klasifikasi 10 kategori dan softmax activation\n",
        "])\n",
        "\n",
        "# Compile model\n",
        "model.compile(optimizer='adam',\n",
        "              loss='sparse_categorical_crossentropy',\n",
        "              metrics=['accuracy'])\n",
        "\n",
        "# Train model\n",
        "history = model.fit(training_images, training_labels, epochs=10, validation_data=(test_images, test_labels))\n",
        "\n",
        "# Plot training history\n",
        "plt.plot(history.history['accuracy'], label='accuracy')  # Akurasi pelatihan\n",
        "plt.plot(history.history['val_accuracy'], label='val_accuracy')  # Akurasi validasi\n",
        "plt.xlabel('Epoch')  # Label sumbu X\n",
        "plt.ylabel('Accuracy')  # Label sumbu Y\n",
        "plt.ylim([0, 1])  # Rentang sumbu Y dari 0 hingga 1\n",
        "plt.legend(loc='lower right')  # Menampilkan legenda di sudut kanan bawah grafik\n",
        "plt.show()  # Menampilkan grafik\n"
      ],
      "metadata": {
        "colab": {
          "base_uri": "https://localhost:8080/",
          "height": 812
        },
        "id": "dfGXhP7UtR6B",
        "outputId": "9f1e2cfc-51d0-40b8-d730-4062f45fbd8c"
      },
      "execution_count": 5,
      "outputs": [
        {
          "output_type": "stream",
          "name": "stdout",
          "text": [
            "Epoch 1/10\n",
            "1875/1875 [==============================] - 63s 33ms/step - loss: 0.4385 - accuracy: 0.8421 - val_loss: 0.3430 - val_accuracy: 0.8731\n",
            "Epoch 2/10\n",
            "1875/1875 [==============================] - 57s 30ms/step - loss: 0.2971 - accuracy: 0.8898 - val_loss: 0.3010 - val_accuracy: 0.8909\n",
            "Epoch 3/10\n",
            "1875/1875 [==============================] - 56s 30ms/step - loss: 0.2517 - accuracy: 0.9066 - val_loss: 0.2661 - val_accuracy: 0.9008\n",
            "Epoch 4/10\n",
            "1875/1875 [==============================] - 54s 29ms/step - loss: 0.2206 - accuracy: 0.9174 - val_loss: 0.2641 - val_accuracy: 0.9020\n",
            "Epoch 5/10\n",
            "1875/1875 [==============================] - 53s 28ms/step - loss: 0.1948 - accuracy: 0.9269 - val_loss: 0.2559 - val_accuracy: 0.9083\n",
            "Epoch 6/10\n",
            "1875/1875 [==============================] - 54s 29ms/step - loss: 0.1704 - accuracy: 0.9364 - val_loss: 0.2399 - val_accuracy: 0.9115\n",
            "Epoch 7/10\n",
            "1875/1875 [==============================] - 55s 29ms/step - loss: 0.1520 - accuracy: 0.9430 - val_loss: 0.2452 - val_accuracy: 0.9131\n",
            "Epoch 8/10\n",
            "1875/1875 [==============================] - 58s 31ms/step - loss: 0.1324 - accuracy: 0.9499 - val_loss: 0.2691 - val_accuracy: 0.9132\n",
            "Epoch 9/10\n",
            "1875/1875 [==============================] - 63s 33ms/step - loss: 0.1151 - accuracy: 0.9563 - val_loss: 0.2809 - val_accuracy: 0.9104\n",
            "Epoch 10/10\n",
            "1875/1875 [==============================] - 55s 29ms/step - loss: 0.1049 - accuracy: 0.9599 - val_loss: 0.2776 - val_accuracy: 0.9139\n"
          ]
        },
        {
          "output_type": "display_data",
          "data": {
            "text/plain": [
              "<Figure size 640x480 with 1 Axes>"
            ],
            "image/png": "[encoded data removed]"
          },
          "metadata": {}
        }
      ]
    },
    {
      "cell_type": "markdown",
      "source": [
        "Model Convolutional Neural Network (CNN) sangat cocok untuk dataset Fashion MNIST karena:\n",
        "\n",
        "1. Pengenalan Gambar: CNN mampu mengekstrak fitur-fitur penting dari gambar pakaian seperti pola, tekstur, dan bentuk, berkat lapisan konvolusi dan pooling-nya.\n",
        "\n",
        "1. Pengurangan Dimensi: Lapisan max pooling membantu mengurangi dimensi gambar sambil mempertahankan informasi penting, memungkinkan model untuk fokus pada fitur-fitur yang relevan.\n",
        "\n",
        "1. Klasifikasi Efisien: Dengan lapisan Dense dan softmax, CNN dapat mengklasifikasikan gambar ke dalam 10 kategori pakaian secara efisien berdasarkan fitur-fitur yang dipelajari.\n",
        "\n",
        "1. Performa Tinggi: CNN telah terbukti memberikan akurasi yang tinggi dalam klasifikasi gambar, menjadikannya pilihan yang ideal untuk tugas-tugas seperti pengenalan pola pada dataset Fashion MNIST."
      ],
      "metadata": {
        "id": "SqELdq_etZNv"
      }
    }
  ]
}